{
 "cells": [
  {
   "cell_type": "code",
   "execution_count": 1,
   "metadata": {},
   "outputs": [],
   "source": [
    "#pip install twint"
   ]
  },
  {
   "cell_type": "code",
   "execution_count": 2,
   "metadata": {},
   "outputs": [],
   "source": [
    "#Libraries to get tweets\n",
    "import twint\n",
    "import nest_asyncio\n",
    "\n",
    "nest_asyncio.apply()"
   ]
  },
  {
   "cell_type": "code",
   "execution_count": 3,
   "metadata": {},
   "outputs": [],
   "source": [
    "#Query to get all Covid Tweets about American response\n",
    "\n",
    "c = twint.Config()\n",
    "\n",
    "c.Search = 'Covid-19 and USA'\n",
    "\n",
    "c.Since = '2020-01-01'\n",
    "c.Until = '2020-08-07'\n",
    "c.Lang = 'en'\n",
    "\n",
    "c.Store_json = True\n",
    "c.Output = 'tweets/Covid_tweets4.json'\n"
   ]
  },
  {
   "cell_type": "code",
   "execution_count": null,
   "metadata": {},
   "outputs": [
    {
     "name": "stdout",
     "output_type": "stream",
     "text": [
      "1291523532363636736 2020-08-06 19:56:20 EDT <ACAI_W> WoW, such a bold and honest statement and brought to you with a lot of integrity .... Please give us an update of the Covid-19 spread in the country and how the USA is handling it? Give us an update on to whom the Bailouts are being paid out and why? Etc. etc.  https://twitter.com/thehill/status/1291018874259791872 …\n",
      "1291522763233071105 2020-08-06 19:53:16 EDT <BrittaSwenson> Trump lift the ban so he won’t be to blame for the coming bankruptcies and major layoffs from airlines in the USA. He now can blame in on other countries not letting in Americans because we have lower Covid-19 rates than the world!\n",
      "1291520828148871168 2020-08-06 19:45:35 EDT <SallyWo42411402> Proves Narvarro right and Dr. Fauci wrong, right?  \"Dr. Fauci was wrong in every interaction I had with him\" - in the immortal worlds of Trade Advisor, White House, USA July 2020, on what he knows about COVID-19  Nomination for Best Script (Oscar,Golden Globe, Emmy), anyone?  https://twitter.com/WebMD/status/1291516912015495168 …\n",
      "1291520253357326338 2020-08-06 19:43:18 EDT <ultimate1us> In 2017 the USA became the victim of a systemic brain cancer. The cancer started in New York, spread 2 D. C. and is very deadly. A team of specialists have been assigned to combat the threat, which mainly affects GOP & MAGA Cult. COVID-19, in 2020, is the minor threat  pic.twitter.com/EzTDEge9tp\n",
      "1291519814339629059 2020-08-06 19:41:33 EDT <taffygeek> How is the Dow still rising. Just looking at that screen 160,000 covid-19 deaths, 500,000 covid-19 infections and only 13% of the country satisfied with the state of the USA. Yet the DOW in the green.\n",
      "1291519212549279746 2020-08-06 19:39:10 EDT <JoePublicFilms> 1100+ new deaths from COVID-19 in the USA today, and not A WORD about it from you, except lies re. how you supposedly did such a great job. The rest of the world is stunned by your ineptitude. And so are 50+% of Americans, who never trusted you from the beginning. We were right.\n",
      "1291519191317716993 2020-08-06 19:39:05 EDT <tere_tweet> Actualiza USA recomendacion a sus ciudadanos. NO Viajar a Mexico. \"The U.S. Department of State updated the Travel Advisory for Mexico on August 6, 2020.  Do not travel to Mexico due to COVID-19.  Exercise increased caution in Mexico due to crime and kidnapping.\"\n",
      "1291513516218867715 2020-08-06 19:16:32 EDT <AprilAubade> But they do mutate I think? - I've read that the European version of Covid-19 is not exactly the same as the variant in the USA, and not exactly like the one in Wuhan either.\n",
      "1291512658231848960 2020-08-06 19:13:07 EDT <PerthWAustralia> WORLD UPDATE #CoronaVirus #Covid_19 24 HOUR NEW CASES and NEW DEATHS.  #USA NOW OVER 5 MILLION TOTAL CASES  pic.twitter.com/bkVjGvT8Fw\n",
      "1291509279766192128 2020-08-06 18:59:42 EDT <CattCass> Just checking the COVID-19 statistics... 162,000+ in the USA and counting.\n",
      "1291507828104945664 2020-08-06 18:53:55 EDT <IntrepidWarrior> @realDonaldTrump @POTUS @WhiteHouse   Coronavirus Cases in the USA now reach a record high of  5,025,350.  American fatalities from the Trump Pandemic are at 162,649.    Only two states, Nebraska and Idaho, show no new cases today.   COVID-19 is not going away.  pic.twitter.com/cL74L9O6xV\n",
      "1291505945873326081 2020-08-06 18:46:27 EDT <EdcrowB> So Betsy DeVos and Mike Pence spread the Covid-19 virus to children in a school? How Trumpite of them.  USA TODAY: Kids quarantine at school visited by Pence, DeVos   https://www.usatoday.com/story/news/politics/2020/08/06/students-quarantine-nc-school-pence-devos-visited/3309162001/ …\n",
      "1291505256052924416 2020-08-06 18:43:42 EDT <CHENQIUMIN1> Many people in the United States listen to the rumor that drinking hand sanitizer can prevent COVID-19! That's unbelievable! Wearing masks, going out less and partying less are more effective! #COVID19 #USA\n",
      "1291502544959619072 2020-08-06 18:32:56 EDT <ActivistBowen2> Within 11 days of schools opening, dozens of students and teachers have gotten COVID-19: 'I truly wish we'd kept our children home': hashtag ONE-THREE, SIX (August 7, 2020; 4:06 HKT) #UNITEDSTATESOFAMERICA #UNITEDSTATES #MISSISSIPPI #COVID2019 #COVID19 #USA\n",
      "1291499947452440581 2020-08-06 18:22:37 EDT <Anarchism_News> Libcom: ＊＊Unrest in the USA: A Perfect Storm＊＊  \"The spread of COVID-19 to the United States earlier this year both triggered and exacerbated the economic crisis which has been building up for decades. Around 50 million workers in America…  https://newsbots.eu/@anarchismnews/104644774077888200 …\n",
      "1291499060164255744 2020-08-06 18:19:05 EDT <aleleeinn> @realDonaldTrump You still haven't learned a thing about epidemics in general and COVID-19 in particular. So I suspect we will get this demented stream of BS until you lose in November. You are daily harming the people of the USA.\n",
      "1291499008662224896 2020-08-06 18:18:53 EDT <FionaCarty1> Well he did put USA first even if it is in Covid-19 numbers and if he does keep going the wall will get built and Mexico will be happy to pay to keep yanks out. That is something I suppose....\n",
      "1291498916064755712 2020-08-06 18:18:31 EDT <benedictoffor> Video on Artemesia plant, a possible cure for COVID-19 and proposed human clinical trial in Africa and USA. Full video  https://youtu.be/-lfFBsiGuAo  pic.twitter.com/FWAA36CjZ4\n",
      "1291498237984112641 2020-08-06 18:15:49 EDT <zekedamone> USA had more than a 15,200,000 % increase in COVID-19 deaths since Feb 29. TRUMP closes his eyes & ears.   TRUMP ignores the COVID-19 pandemic so it won't interfere with his campaign prospects.  IMMORAL and should be criminal.  Can the families of victims sue TRUMP ?\n"
     ]
    }
   ],
   "source": [
    "twint.run.Search(c)"
   ]
  },
  {
   "cell_type": "code",
   "execution_count": null,
   "metadata": {},
   "outputs": [],
   "source": [
    "#Query to get Trump Tweets about Covid\n",
    "\n",
    "c = twint.Config()\n",
    "\n",
    "c.Username = 'realdonaldtrump'\n",
    "#c.Search = 'Covid-19'\n",
    "\n",
    "c.Since = '2020-01-01'\n",
    "c.Until = '2020-08-07'\n",
    "c.Lang = 'en'\n",
    "\n",
    "c.Store_json = True\n",
    "c.Output = 'tweets/Trump_Covid_tweets4.json'\n",
    "\n"
   ]
  },
  {
   "cell_type": "code",
   "execution_count": null,
   "metadata": {},
   "outputs": [],
   "source": [
    "twint.run.Search(c)"
   ]
  },
  {
   "cell_type": "code",
   "execution_count": null,
   "metadata": {},
   "outputs": [],
   "source": [
    "#Query to get baseline tweets about Covid from sources such as NY Times\n",
    "\n",
    "c = twint.Config()\n",
    "\n",
    "c.Username = 'nytimes'\n",
    "c.Search = 'Covid-19'\n",
    "\n",
    "c.Since = '2020-01-01'\n",
    "c.Until = '2020-08-07'\n",
    "c.Lang = 'en'\n",
    "\n",
    "c.Store_json = True\n",
    "c.Output = 'tweets/Nytimes_Covid_tweets4.json'\n"
   ]
  },
  {
   "cell_type": "code",
   "execution_count": null,
   "metadata": {},
   "outputs": [],
   "source": [
    "twint.run.Search(c)"
   ]
  },
  {
   "cell_type": "code",
   "execution_count": null,
   "metadata": {},
   "outputs": [],
   "source": [
    "# Query to get Tweets from NY Governor Andrew Cuomo\n",
    "c = twint.Config()\n",
    "\n",
    "c.Username = 'nygovcuomo'\n",
    "c.Search = 'Covid-19'\n",
    "\n",
    "c.Since = '2020-01-01'\n",
    "c.Until = '2020-08-07'\n",
    "c.Lang = 'en'\n",
    "\n",
    "c.Store_json = True\n",
    "c.Output = 'tweets/Cuomo_Covid_tweets4.json'\n"
   ]
  },
  {
   "cell_type": "code",
   "execution_count": null,
   "metadata": {},
   "outputs": [],
   "source": [
    "twint.run.Search(c)"
   ]
  },
  {
   "cell_type": "code",
   "execution_count": null,
   "metadata": {},
   "outputs": [],
   "source": [
    "# Query to get Tweets from Washington Post\n",
    "c = twint.Config()\n",
    "\n",
    "c.Username = 'washingtonpost'\n",
    "c.Search = 'Covid-19'\n",
    "\n",
    "c.Since = '2020-01-01'\n",
    "c.Until = '2020-08-07'\n",
    "c.Lang = 'en'\n",
    "\n",
    "c.Store_json = True\n",
    "c.Output = 'tweets/Washpost_tweets4.json'"
   ]
  },
  {
   "cell_type": "code",
   "execution_count": null,
   "metadata": {},
   "outputs": [],
   "source": [
    "twint.run.Search(c)"
   ]
  },
  {
   "cell_type": "code",
   "execution_count": null,
   "metadata": {},
   "outputs": [],
   "source": []
  }
 ],
 "metadata": {
  "kernelspec": {
   "display_name": "Python [conda env:learn-env] *",
   "language": "python",
   "name": "conda-env-learn-env-py"
  },
  "language_info": {
   "codemirror_mode": {
    "name": "ipython",
    "version": 3
   },
   "file_extension": ".py",
   "mimetype": "text/x-python",
   "name": "python",
   "nbconvert_exporter": "python",
   "pygments_lexer": "ipython3",
   "version": "3.6.9"
  },
  "toc": {
   "base_numbering": 1,
   "nav_menu": {},
   "number_sections": true,
   "sideBar": true,
   "skip_h1_title": false,
   "title_cell": "Table of Contents",
   "title_sidebar": "Contents",
   "toc_cell": false,
   "toc_position": {},
   "toc_section_display": true,
   "toc_window_display": false
  },
  "varInspector": {
   "cols": {
    "lenName": 16,
    "lenType": 16,
    "lenVar": 40
   },
   "kernels_config": {
    "python": {
     "delete_cmd_postfix": "",
     "delete_cmd_prefix": "del ",
     "library": "var_list.py",
     "varRefreshCmd": "print(var_dic_list())"
    },
    "r": {
     "delete_cmd_postfix": ") ",
     "delete_cmd_prefix": "rm(",
     "library": "var_list.r",
     "varRefreshCmd": "cat(var_dic_list()) "
    }
   },
   "types_to_exclude": [
    "module",
    "function",
    "builtin_function_or_method",
    "instance",
    "_Feature"
   ],
   "window_display": false
  }
 },
 "nbformat": 4,
 "nbformat_minor": 2
}
