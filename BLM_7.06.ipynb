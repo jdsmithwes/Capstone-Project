{
 "cells": [
  {
   "cell_type": "markdown",
   "metadata": {},
   "source": [
    "## Twitter Analysis\n",
    "Jamaal Smith\n",
    "Flatiron"
   ]
  },
  {
   "cell_type": "code",
   "execution_count": 1,
   "metadata": {},
   "outputs": [],
   "source": [
    "#import the libraries\n",
    "import tweepy as tw\n",
    "from textblob import TextBlob\n",
    "from wordcloud import WordCloud\n",
    "import pandas as pd\n",
    "import numpy as np\n",
    "import re"
   ]
  },
  {
   "cell_type": "code",
   "execution_count": 2,
   "metadata": {},
   "outputs": [],
   "source": [
    "#Twitter Credentials\n",
    "from credentials import *"
   ]
  },
  {
   "cell_type": "code",
   "execution_count": 4,
   "metadata": {},
   "outputs": [],
   "source": [
    "#Create the authentication object\n",
    "authenticate = tw.OAuthHandler(consumer_key,consumer_secret)\n",
    "#Set the acess token and access token secret\n",
    "authenticate.set_access_token(access_token,access_token_secret)\n",
    "#Create the API object\n",
    "api = tw.API(authenticate,wait_on_rate_limit=True)"
   ]
  },
  {
   "cell_type": "code",
   "execution_count": 24,
   "metadata": {},
   "outputs": [],
   "source": [
    "#Parameters for tweet search\n",
    "#According to Wikipedia, BLM started on acquital date of George Zimmerman in Trayvon Martin case\n",
    "search_words = \"#BLM and Black Lives Matter\"+ \" -filter:retweets\"\n",
    "date_since = \"2013-07-13\""
   ]
  },
  {
   "cell_type": "code",
   "execution_count": 40,
   "metadata": {},
   "outputs": [],
   "source": [
    "# Collect tweets\n",
    "tweets = tw.Cursor(api.search,\n",
    "              q=search_words,\n",
    "              lang=\"en\",\n",
    "              since=date_since).items()\n",
    "#Get text of tweets\n",
    "tweet_data = []\n",
    "for tweet in tweets:\n",
    "    tweet_data.append(tweet.text)\n",
    "\n"
   ]
  },
  {
   "cell_type": "code",
   "execution_count": 50,
   "metadata": {},
   "outputs": [],
   "source": [
    "user_info = []\n",
    "for tweet in tweets:\n",
    "    user_info.append(tweet.created_at)\n"
   ]
  },
  {
   "cell_type": "code",
   "execution_count": 51,
   "metadata": {},
   "outputs": [
    {
     "data": {
      "text/plain": [
       "[]"
      ]
     },
     "execution_count": 51,
     "metadata": {},
     "output_type": "execute_result"
    }
   ],
   "source": [
    "user_info"
   ]
  },
  {
   "cell_type": "code",
   "execution_count": 49,
   "metadata": {},
   "outputs": [
    {
     "data": {
      "text/plain": [
       "[]"
      ]
     },
     "execution_count": 49,
     "metadata": {},
     "output_type": "execute_result"
    }
   ],
   "source": [
    "users_locs"
   ]
  },
  {
   "cell_type": "code",
   "execution_count": 39,
   "metadata": {},
   "outputs": [
    {
     "data": {
      "text/plain": [
       "<tweepy.cursor.ItemIterator at 0x7fc84e2e7748>"
      ]
     },
     "execution_count": 39,
     "metadata": {},
     "output_type": "execute_result"
    }
   ],
   "source": []
  },
  {
   "cell_type": "code",
   "execution_count": 33,
   "metadata": {},
   "outputs": [],
   "source": [
    "tweet_pd = pd.DataFrame(tweet_data, columns = ['text'])"
   ]
  },
  {
   "cell_type": "code",
   "execution_count": 40,
   "metadata": {},
   "outputs": [],
   "source": []
  },
  {
   "cell_type": "code",
   "execution_count": 41,
   "metadata": {},
   "outputs": [
    {
     "data": {
      "text/plain": [
       "[]"
      ]
     },
     "execution_count": 41,
     "metadata": {},
     "output_type": "execute_result"
    }
   ],
   "source": [
    "user_detail"
   ]
  },
  {
   "cell_type": "code",
   "execution_count": 25,
   "metadata": {},
   "outputs": [
    {
     "data": {
      "text/html": [
       "<div>\n",
       "<style scoped>\n",
       "    .dataframe tbody tr th:only-of-type {\n",
       "        vertical-align: middle;\n",
       "    }\n",
       "\n",
       "    .dataframe tbody tr th {\n",
       "        vertical-align: top;\n",
       "    }\n",
       "\n",
       "    .dataframe thead th {\n",
       "        text-align: right;\n",
       "    }\n",
       "</style>\n",
       "<table border=\"1\" class=\"dataframe\">\n",
       "  <thead>\n",
       "    <tr style=\"text-align: right;\">\n",
       "      <th></th>\n",
       "      <th>text</th>\n",
       "      <th>User</th>\n",
       "      <th>Location</th>\n",
       "    </tr>\n",
       "  </thead>\n",
       "  <tbody>\n",
       "    <tr>\n",
       "      <td>0</td>\n",
       "      <td>Defiant #Trump is convinced that venting #Whit...</td>\n",
       "      <td>NaN</td>\n",
       "      <td>NaN</td>\n",
       "    </tr>\n",
       "    <tr>\n",
       "      <td>1</td>\n",
       "      <td>Kimberly Guilfoyle, the girlfriend of Presiden...</td>\n",
       "      <td>NaN</td>\n",
       "      <td>NaN</td>\n",
       "    </tr>\n",
       "    <tr>\n",
       "      <td>2</td>\n",
       "      <td>GETAnalysis: In his #ReElection bid, '@POTUS #...</td>\n",
       "      <td>NaN</td>\n",
       "      <td>NaN</td>\n",
       "    </tr>\n",
       "    <tr>\n",
       "      <td>3</td>\n",
       "      <td>@cvpayne We already won #reelection #2020 From...</td>\n",
       "      <td>NaN</td>\n",
       "      <td>NaN</td>\n",
       "    </tr>\n",
       "    <tr>\n",
       "      <td>4</td>\n",
       "      <td>When a hot woman tells you that she might slee...</td>\n",
       "      <td>NaN</td>\n",
       "      <td>NaN</td>\n",
       "    </tr>\n",
       "  </tbody>\n",
       "</table>\n",
       "</div>"
      ],
      "text/plain": [
       "                                                text User Location\n",
       "0  Defiant #Trump is convinced that venting #Whit...  NaN      NaN\n",
       "1  Kimberly Guilfoyle, the girlfriend of Presiden...  NaN      NaN\n",
       "2  GETAnalysis: In his #ReElection bid, '@POTUS #...  NaN      NaN\n",
       "3  @cvpayne We already won #reelection #2020 From...  NaN      NaN\n",
       "4  When a hot woman tells you that she might slee...  NaN      NaN"
      ]
     },
     "execution_count": 25,
     "metadata": {},
     "output_type": "execute_result"
    }
   ],
   "source": [
    "datasets = [tweet_pd,user_pd]\n",
    "tweets_pd = pd.concat(datasets,axis=1)\n",
    "\n",
    "tweets_pd.head()"
   ]
  },
  {
   "cell_type": "code",
   "execution_count": null,
   "metadata": {},
   "outputs": [],
   "source": [
    "#Extract tweets from twitter user\n",
    "#screen_name = 'TheDemocrats'\n",
    "#posts = api.user_timeline(screen_name = screen_name,count=300,lang='en',tweet_mode='extended')\n",
    "\n",
    "#convert to dataframe for tweets\n",
    "#df = pd.DataFrame([tweet.full_text for tweet in posts],columns=['Tweets'])\n",
    "#df['User'] = screen_name\n",
    "#len(posts)"
   ]
  },
  {
   "cell_type": "code",
   "execution_count": null,
   "metadata": {},
   "outputs": [],
   "source": [
    "#Extract tweets from twitter user\n",
    "#screen_name = 'GOP'\n",
    "#posts = api.user_timeline(screen_name = screen_name,count=50000,lang='en',tweet_mode='extended')\n",
    "\n",
    "#convert to dataframe for tweets\n",
    "#df_GOP = pd.DataFrame([tweet.full_text for tweet in posts],columns=['Tweets'])\n",
    "#df_GOP['User'] = screen_name\n",
    "#df_GOP.head(5)"
   ]
  },
  {
   "cell_type": "code",
   "execution_count": null,
   "metadata": {},
   "outputs": [],
   "source": [
    "#Extract tweets from twitter user\n",
    "#screen_name = 'joebiden'\n",
    "#posts = api.user_timeline(screen_name = screen_name,count=50000,lang='en',tweet_mode='extended')\n",
    "\n",
    "#convert to dataframe for tweets\n",
    "#df_Biden = pd.DataFrame([tweet.full_text for tweet in posts],columns=['Tweets'])\n",
    "#df_Biden['User'] = screen_name\n",
    "#df_Biden.head(5)"
   ]
  },
  {
   "cell_type": "code",
   "execution_count": null,
   "metadata": {},
   "outputs": [],
   "source": [
    "#Extract tweets from twitter user\n",
    "screen_name = 'realdonaldtrump'\n",
    "posts = api.user_timeline(screen_name = screen_name,count=50000,lang='en',tweet_mode='extended')\n",
    "\n",
    "#convert to dataframe for tweets\n",
    "df_Trump = pd.DataFrame([tweet.full_text for tweet in posts],columns=['Tweets'])\n",
    "df_Trump['User'] = screen_name\n",
    "df_Trump.head(5)\n",
    "df_Trump.info"
   ]
  },
  {
   "cell_type": "code",
   "execution_count": null,
   "metadata": {},
   "outputs": [],
   "source": [
    "#Create a function to get the subjectivity\n",
    "#def getSubjectivity(text):\n",
    "    #return TextBlob(text).sentiment.subjectivity\n",
    "\n",
    "#Create a function to get the polarity\n",
    "#def getPolarity(text):\n",
    "    #return TextBlob(text).sentiment.polarity\n",
    "\n",
    "#Create two new columns\n",
    "#df['Subjectivity'] = df['Tweets'].apply(getSubjectivity)\n",
    "#df['Polarity'] = df['Tweets'].apply(getPolarity)\n",
    "\n",
    "#df_GOP['Subjectivity'] = df_GOP['Tweets'].apply(getSubjectivity)\n",
    "#df_GOP['Polarity'] = df_GOP['Tweets'].apply(getPolarity)\n",
    "\n",
    "#df_Biden['Subjectivity'] = df['Tweets'].apply(getSubjectivity)\n",
    "#df_Biden['Polarity'] = df['Tweets'].apply(getPolarity)\n",
    "\n",
    "#df_Trump['Subjectivity'] = df['Tweets'].apply(getSubjectivity)\n",
    "#df_Trump['Polarity'] = df['Tweets'].apply(getPolarity)\n"
   ]
  },
  {
   "cell_type": "code",
   "execution_count": null,
   "metadata": {},
   "outputs": [],
   "source": [
    "#df_Trump.head()"
   ]
  },
  {
   "cell_type": "code",
   "execution_count": null,
   "metadata": {},
   "outputs": [],
   "source": [
    "#stacking DataFrames for overall Data\n",
    "#df_tweets = pd.concat([df,df_GOP,df_Biden,df_Trump],axis=0)\n",
    "#df_tweets.info()"
   ]
  },
  {
   "cell_type": "code",
   "execution_count": null,
   "metadata": {},
   "outputs": [],
   "source": []
  }
 ],
 "metadata": {
  "kernelspec": {
   "display_name": "Python [conda env:learn-env] *",
   "language": "python",
   "name": "conda-env-learn-env-py"
  },
  "language_info": {
   "codemirror_mode": {
    "name": "ipython",
    "version": 3
   },
   "file_extension": ".py",
   "mimetype": "text/x-python",
   "name": "python",
   "nbconvert_exporter": "python",
   "pygments_lexer": "ipython3",
   "version": "3.6.9"
  },
  "toc": {
   "base_numbering": 1,
   "nav_menu": {},
   "number_sections": true,
   "sideBar": true,
   "skip_h1_title": false,
   "title_cell": "Table of Contents",
   "title_sidebar": "Contents",
   "toc_cell": false,
   "toc_position": {},
   "toc_section_display": true,
   "toc_window_display": false
  },
  "varInspector": {
   "cols": {
    "lenName": 16,
    "lenType": 16,
    "lenVar": 40
   },
   "kernels_config": {
    "python": {
     "delete_cmd_postfix": "",
     "delete_cmd_prefix": "del ",
     "library": "var_list.py",
     "varRefreshCmd": "print(var_dic_list())"
    },
    "r": {
     "delete_cmd_postfix": ") ",
     "delete_cmd_prefix": "rm(",
     "library": "var_list.r",
     "varRefreshCmd": "cat(var_dic_list()) "
    }
   },
   "types_to_exclude": [
    "module",
    "function",
    "builtin_function_or_method",
    "instance",
    "_Feature"
   ],
   "window_display": false
  }
 },
 "nbformat": 4,
 "nbformat_minor": 2
}
