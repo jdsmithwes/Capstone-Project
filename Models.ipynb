{
 "cells": [
  {
   "cell_type": "markdown",
   "metadata": {},
   "source": [
    "# Modeling"
   ]
  },
  {
   "cell_type": "markdown",
   "metadata": {},
   "source": [
    "To see how well we an classify the public's response to the COVID pandemic based on collected tweet, three machine learning models will be explored to see which one we can deploy.In addition to a baseline model, we will see whether a decsion tree classifier, random forest classifier or XGBoost model will be ideal."
   ]
  },
  {
   "cell_type": "markdown",
   "metadata": {},
   "source": [
    "## Pros and Cons of Each Model"
   ]
  },
  {
   "cell_type": "code",
   "execution_count": 1,
   "metadata": {},
   "outputs": [
    {
     "name": "stderr",
     "output_type": "stream",
     "text": [
      "/opt/anaconda3/envs/learn-env/lib/python3.6/site-packages/statsmodels/tools/_testing.py:19: FutureWarning: pandas.util.testing is deprecated. Use the functions in the public API at pandas.testing instead.\n",
      "  import pandas.util.testing as tm\n",
      "/opt/anaconda3/envs/learn-env/lib/python3.6/site-packages/sklearn/utils/deprecation.py:143: FutureWarning: The sklearn.metrics.scorer module is  deprecated in version 0.22 and will be removed in version 0.24. The corresponding classes / functions should instead be imported from sklearn.metrics. Anything that cannot be imported from sklearn.metrics is now part of the private API.\n",
      "  warnings.warn(message, FutureWarning)\n",
      "/opt/anaconda3/envs/learn-env/lib/python3.6/site-packages/sklearn/utils/deprecation.py:143: FutureWarning: The sklearn.feature_selection.base module is  deprecated in version 0.22 and will be removed in version 0.24. The corresponding classes / functions should instead be imported from sklearn.feature_selection. Anything that cannot be imported from sklearn.feature_selection is now part of the private API.\n",
      "  warnings.warn(message, FutureWarning)\n",
      "Using TensorFlow backend.\n"
     ]
    }
   ],
   "source": [
    "import seaborn as sns\n",
    "import pandas as pd\n",
    "import datetime as dt\n",
    "import eli5\n",
    "import waterfall_chart\n",
    "import matplotlib.pyplot as plt\n",
    "from ipywidgets import interact, interactive, fixed, interact_manual\n",
    "import ipywidgets as widgets\n",
    "import pickle\n"
   ]
  },
  {
   "cell_type": "code",
   "execution_count": 2,
   "metadata": {},
   "outputs": [
    {
     "name": "stderr",
     "output_type": "stream",
     "text": [
      "/opt/anaconda3/envs/learn-env/lib/python3.6/site-packages/sklearn/utils/deprecation.py:143: FutureWarning: The sklearn.metrics.classification module is  deprecated in version 0.22 and will be removed in version 0.24. The corresponding classes / functions should instead be imported from sklearn.metrics. Anything that cannot be imported from sklearn.metrics is now part of the private API.\n",
      "  warnings.warn(message, FutureWarning)\n"
     ]
    }
   ],
   "source": [
    "from sklearn.pipeline import Pipeline\n",
    "from sklearn.preprocessing import StandardScaler, OneHotEncoder, LabelEncoder\n",
    "from sklearn.model_selection import train_test_split\n",
    "from sklearn.model_selection import GridSearchCV\n",
    "from sklearn.impute import SimpleImputer \n",
    "from sklearn.dummy import DummyRegressor\n",
    "from sklearn.compose import ColumnTransformer\n",
    "from sklearn.tree import DecisionTreeClassifier\n",
    "from sklearn.ensemble import RandomForestClassifier\n",
    "from yellowbrick.regressor import PredictionError\n",
    "from yellowbrick.classifier import ConfusionMatrix\n",
    "from yellowbrick.classifier import classification_report\n",
    "from yellowbrick.classifier import ROCAUC\n",
    "import xgboost as xgb"
   ]
  },
  {
   "cell_type": "code",
   "execution_count": 3,
   "metadata": {},
   "outputs": [],
   "source": [
    "# getting tweet df up and running\n",
    "Master_tweet_dataset = pickle.load(open('pickles/Master_Tweet_dataset.pickle','rb'))\n",
    "Master_tweet_dataset = Master_tweet_dataset.drop('Spread',axis=1)"
   ]
  },
  {
   "cell_type": "code",
   "execution_count": 4,
   "metadata": {},
   "outputs": [
    {
     "data": {
      "text/html": [
       "<div>\n",
       "<style scoped>\n",
       "    .dataframe tbody tr th:only-of-type {\n",
       "        vertical-align: middle;\n",
       "    }\n",
       "\n",
       "    .dataframe tbody tr th {\n",
       "        vertical-align: top;\n",
       "    }\n",
       "\n",
       "    .dataframe thead th {\n",
       "        text-align: right;\n",
       "    }\n",
       "</style>\n",
       "<table border=\"1\" class=\"dataframe\">\n",
       "  <thead>\n",
       "    <tr style=\"text-align: right;\">\n",
       "      <th></th>\n",
       "      <th>likes_count</th>\n",
       "      <th>positive</th>\n",
       "      <th>death</th>\n",
       "      <th>word_count</th>\n",
       "      <th>avg_word_length</th>\n",
       "      <th>stopwords_count</th>\n",
       "      <th>char_count</th>\n",
       "      <th>Sentiment</th>\n",
       "      <th>Biden (D)</th>\n",
       "      <th>Trump (R)</th>\n",
       "      <th>Topic</th>\n",
       "      <th>Target</th>\n",
       "    </tr>\n",
       "  </thead>\n",
       "  <tbody>\n",
       "    <tr>\n",
       "      <th>0</th>\n",
       "      <td>87558</td>\n",
       "      <td>0</td>\n",
       "      <td>0.0</td>\n",
       "      <td>22</td>\n",
       "      <td>5.454545</td>\n",
       "      <td>7</td>\n",
       "      <td>141</td>\n",
       "      <td>0.7845</td>\n",
       "      <td>50.0</td>\n",
       "      <td>46.0</td>\n",
       "      <td>1</td>\n",
       "      <td>Political Blame Response</td>\n",
       "    </tr>\n",
       "    <tr>\n",
       "      <th>1</th>\n",
       "      <td>98127</td>\n",
       "      <td>0</td>\n",
       "      <td>0.0</td>\n",
       "      <td>11</td>\n",
       "      <td>8.166667</td>\n",
       "      <td>5</td>\n",
       "      <td>109</td>\n",
       "      <td>-0.0772</td>\n",
       "      <td>50.0</td>\n",
       "      <td>46.0</td>\n",
       "      <td>1</td>\n",
       "      <td>Political Blame Response</td>\n",
       "    </tr>\n",
       "    <tr>\n",
       "      <th>2</th>\n",
       "      <td>96738</td>\n",
       "      <td>0</td>\n",
       "      <td>0.0</td>\n",
       "      <td>6</td>\n",
       "      <td>12.571429</td>\n",
       "      <td>2</td>\n",
       "      <td>94</td>\n",
       "      <td>0.0000</td>\n",
       "      <td>50.0</td>\n",
       "      <td>46.0</td>\n",
       "      <td>1</td>\n",
       "      <td>Political Blame Response</td>\n",
       "    </tr>\n",
       "    <tr>\n",
       "      <th>3</th>\n",
       "      <td>50187</td>\n",
       "      <td>0</td>\n",
       "      <td>0.0</td>\n",
       "      <td>2</td>\n",
       "      <td>20.333333</td>\n",
       "      <td>0</td>\n",
       "      <td>63</td>\n",
       "      <td>0.4215</td>\n",
       "      <td>50.0</td>\n",
       "      <td>46.0</td>\n",
       "      <td>4</td>\n",
       "      <td>Health Crisis Response</td>\n",
       "    </tr>\n",
       "    <tr>\n",
       "      <th>4</th>\n",
       "      <td>121464</td>\n",
       "      <td>0</td>\n",
       "      <td>0.0</td>\n",
       "      <td>2</td>\n",
       "      <td>6.000000</td>\n",
       "      <td>0</td>\n",
       "      <td>13</td>\n",
       "      <td>-0.2960</td>\n",
       "      <td>50.0</td>\n",
       "      <td>46.0</td>\n",
       "      <td>1</td>\n",
       "      <td>Political Blame Response</td>\n",
       "    </tr>\n",
       "  </tbody>\n",
       "</table>\n",
       "</div>"
      ],
      "text/plain": [
       "   likes_count  positive  death  word_count  avg_word_length  stopwords_count  \\\n",
       "0        87558         0    0.0          22         5.454545                7   \n",
       "1        98127         0    0.0          11         8.166667                5   \n",
       "2        96738         0    0.0           6        12.571429                2   \n",
       "3        50187         0    0.0           2        20.333333                0   \n",
       "4       121464         0    0.0           2         6.000000                0   \n",
       "\n",
       "   char_count  Sentiment  Biden (D)  Trump (R)  Topic  \\\n",
       "0         141     0.7845       50.0       46.0      1   \n",
       "1         109    -0.0772       50.0       46.0      1   \n",
       "2          94     0.0000       50.0       46.0      1   \n",
       "3          63     0.4215       50.0       46.0      4   \n",
       "4          13    -0.2960       50.0       46.0      1   \n",
       "\n",
       "                     Target  \n",
       "0  Political Blame Response  \n",
       "1  Political Blame Response  \n",
       "2  Political Blame Response  \n",
       "3    Health Crisis Response  \n",
       "4  Political Blame Response  "
      ]
     },
     "execution_count": 4,
     "metadata": {},
     "output_type": "execute_result"
    }
   ],
   "source": [
    "Master_tweet_dataset.head()"
   ]
  },
  {
   "cell_type": "code",
   "execution_count": 5,
   "metadata": {},
   "outputs": [],
   "source": [
    "# Variable Designation\n",
    "X = Master_tweet_dataset.drop(['Target'],axis=1)\n",
    "y= Master_tweet_dataset.iloc[:,-1]"
   ]
  },
  {
   "cell_type": "code",
   "execution_count": 6,
   "metadata": {},
   "outputs": [],
   "source": [
    "#apply the LabelEncoder to y values to get rid of continuous error\n",
    "lab_enc = LabelEncoder()\n",
    "training_scores_encoded = lab_enc.fit_transform(y)\n"
   ]
  },
  {
   "cell_type": "markdown",
   "metadata": {},
   "source": [
    "## Pipeline Creation"
   ]
  },
  {
   "cell_type": "markdown",
   "metadata": {},
   "source": [
    "While the models that I choose for this project do not need much preparation of the data in terms of scaling and normalization, I utilized Pipelines to assist with parameter tuning via GridSearch and also provide an expectation around model performance. "
   ]
  },
  {
   "cell_type": "code",
   "execution_count": 7,
   "metadata": {},
   "outputs": [],
   "source": [
    "#Classifer being used in current Pipeline so future changes can be made\n",
    "Model = DummyRegressor(strategy='mean')\n",
    "\n",
    "#splitting dataframe into numeric and categoric columns\n",
    "numeric_features = ['likes_count','word_count','avg_word_length','stopwords_count',\n",
    "                   'char_count','Sentiment']\n",
    "numeric_transformer = Pipeline([('scaler',StandardScaler())])\n",
    "\n",
    "categorical_features = ['Target']\n",
    "#categorical_transformer = Pipeline([('encoder',LabelEncoder())])\n",
    "\n",
    "preprocessor = ColumnTransformer(\n",
    "    transformers=[\n",
    "        ('num', numeric_transformer, numeric_features)])#,('cat', categorical_transformer, categorical_features)])\n",
    "\n",
    "clf = Pipeline(steps=[('preprocessor', preprocessor),\n",
    "                      ('classifier', Model)])"
   ]
  },
  {
   "cell_type": "markdown",
   "metadata": {},
   "source": [
    "## Data Split\n",
    "With nearly 25 thousand tweets, a test size of 20% seemed to provide the models with enough training data. I was tempted to select 25%, but I preferred to have more data to train with and could check against overfitting with analysis of ROC curves later."
   ]
  },
  {
   "cell_type": "code",
   "execution_count": 8,
   "metadata": {},
   "outputs": [],
   "source": [
    "#splitting of data\n",
    "X_train, X_test, y_train, y_test = train_test_split(X, training_scores_encoded,test_size=.20)"
   ]
  },
  {
   "cell_type": "markdown",
   "metadata": {},
   "source": [
    "## Models"
   ]
  },
  {
   "cell_type": "markdown",
   "metadata": {},
   "source": [
    "### Baseline Model"
   ]
  },
  {
   "cell_type": "code",
   "execution_count": 9,
   "metadata": {},
   "outputs": [
    {
     "data": {
      "text/plain": [
       "Pipeline(steps=[('preprocessor',\n",
       "                 ColumnTransformer(transformers=[('num',\n",
       "                                                  Pipeline(steps=[('scaler',\n",
       "                                                                   StandardScaler())]),\n",
       "                                                  ['likes_count', 'word_count',\n",
       "                                                   'avg_word_length',\n",
       "                                                   'stopwords_count',\n",
       "                                                   'char_count',\n",
       "                                                   'Sentiment'])])),\n",
       "                ('classifier', DummyRegressor())])"
      ]
     },
     "execution_count": 9,
     "metadata": {},
     "output_type": "execute_result"
    }
   ],
   "source": [
    "clf.fit(X_train,y_train,)"
   ]
  },
  {
   "cell_type": "code",
   "execution_count": 10,
   "metadata": {},
   "outputs": [
    {
     "data": {
      "text/plain": [
       "-0.00017892645939143748"
      ]
     },
     "execution_count": 10,
     "metadata": {},
     "output_type": "execute_result"
    }
   ],
   "source": [
    "clf.score(X_test,y_test)"
   ]
  },
  {
   "cell_type": "markdown",
   "metadata": {},
   "source": [
    "### Decision Tree Classifier"
   ]
  },
  {
   "cell_type": "markdown",
   "metadata": {},
   "source": [
    "### Decision Tree Pros\n",
    "\n",
    "- Does not require much data preprocessing time, nor does it need the data to be normalized or scaled.\n",
    "- Able to deal with missing values in the dataset\n",
    "- Easy to explain to a variety of audiences"
   ]
  },
  {
   "cell_type": "markdown",
   "metadata": {},
   "source": [
    "### Decision Tree Cons\n",
    "- Decision tree training can be more computationally expensive than other models and can take more time than others\n",
    "- Small changes in the data can create instability in the model\n",
    "- Not ideal for regression or predicting a continuous value\n"
   ]
  },
  {
   "cell_type": "code",
   "execution_count": 11,
   "metadata": {},
   "outputs": [],
   "source": [
    "#Classifer being used in current Pipeline so future changes can be made\n",
    "Model = DecisionTreeClassifier()\n",
    "\n",
    "#splitting dataframe into numeric and categoric columns\n",
    "numeric_features = ['likes_count','word_count','avg_word_length','stopwords_count',\n",
    "                   'char_count','Sentiment']\n",
    "numeric_transformer = Pipeline([('scaler',StandardScaler())])\n",
    "\n",
    "#categorical_features = ['username']\n",
    "#categorical_transformer = Pipeline([('Encoder',LabelEncoder())])\n",
    "\n",
    "preprocessor = ColumnTransformer(\n",
    "    transformers=[\n",
    "        ('num', numeric_transformer, numeric_features)#('cat', categorical_transformer, categorical_features)\n",
    "        ])\n",
    "    \n",
    "clf_DT = Pipeline(steps=[('preprocessor', preprocessor),\n",
    "                      ('classifier', Model)])\n",
    "\n"
   ]
  },
  {
   "cell_type": "code",
   "execution_count": 12,
   "metadata": {},
   "outputs": [
    {
     "data": {
      "text/plain": [
       "GridSearchCV(estimator=DecisionTreeClassifier(),\n",
       "             param_grid={'criterion': ('gini', 'entropy'),\n",
       "                         'splitter': ('best', 'random')})"
      ]
     },
     "execution_count": 12,
     "metadata": {},
     "output_type": "execute_result"
    }
   ],
   "source": [
    "## Finding best parameters\n",
    "parameters={'criterion': ('gini','entropy'), 'splitter': ('best', 'random')}\n",
    "\n",
    "model = DecisionTreeClassifier()\n",
    "\n",
    "clf_DT = GridSearchCV(model, parameters)\n",
    "\n",
    "clf_DT.fit(X_train,y_train)\n"
   ]
  },
  {
   "cell_type": "code",
   "execution_count": 13,
   "metadata": {},
   "outputs": [
    {
     "name": "stdout",
     "output_type": "stream",
     "text": [
      "\n",
      " ============================================================================================\n",
      "\n",
      " Results of the GridSearchCV on Decision Tree Classifier\n",
      "\n",
      " ============================================================================================\n",
      "\n",
      " The best parameters to use in a model are: \n",
      " {'criterion': 'gini', 'splitter': 'best'}\n",
      "\n",
      " The best score achieved is: \n",
      " 1.0\n",
      "\n",
      " ============================================================================================\n"
     ]
    }
   ],
   "source": [
    "#Results of GridSearchCV\n",
    "print('\\n ============================================================================================')\n",
    "print('\\n Results of the GridSearchCV on Decision Tree Classifier')\n",
    "print('\\n ============================================================================================')\n",
    "print('\\n The best parameters to use in a model are: \\n',clf_DT.best_params_)\n",
    "print('\\n The best score achieved is: \\n',clf_DT.best_score_ )\n",
    "print('\\n ============================================================================================')"
   ]
  },
  {
   "cell_type": "code",
   "execution_count": 14,
   "metadata": {},
   "outputs": [],
   "source": [
    "#fitting and making predictions with model\n",
    "clf_DT = DecisionTreeClassifier(criterion='gini',splitter='best')\n",
    "clf_DT_model = clf_DT.fit(X_train,y_train)\n",
    "\n",
    "#saving model - run this when data is refreshed\n",
    "#pickle.dump( clf_DT_model, open( \"clf_DT_model.p\", \"wb\" ) )\n",
    "\n",
    "#loading model\n",
    "clf_DT = pickle.load( open( \"pickles/clf_DT_model.p\", \"rb\" ) )\n",
    "\n",
    "#ypred_DT = clf_DT.predict(X_test)"
   ]
  },
  {
   "cell_type": "markdown",
   "metadata": {},
   "source": [
    "## Understanding Confusion Matrix"
   ]
  },
  {
   "cell_type": "markdown",
   "metadata": {},
   "source": [
    "Confusion Matrices provide a straightforward visual to see how well your model is performing. By this, the diagonal numbers read from left to right display the number of correct classifications that your model made. For these visualizations, the diagonals shaded in red highlight the correct predictions. The other diagonal present informs on how many classifications were done incorrectly."
   ]
  },
  {
   "cell_type": "code",
   "execution_count": 15,
   "metadata": {},
   "outputs": [
    {
     "name": "stderr",
     "output_type": "stream",
     "text": [
      "/opt/anaconda3/envs/learn-env/lib/python3.6/site-packages/sklearn/base.py:213: FutureWarning: From version 0.24, get_params will raise an AttributeError if a parameter cannot be retrieved as an instance attribute. Previously it would return None.\n",
      "  FutureWarning)\n"
     ]
    },
    {
     "data": {
      "image/png": "[encoded data removed]",
      "text/plain": [
       "<Figure size 576x396 with 1 Axes>"
      ]
     },
     "metadata": {},
     "output_type": "display_data"
    },
    {
     "data": {
      "text/plain": [
       "<AxesSubplot:title={'center':'DecisionTreeClassifier Confusion Matrix'}, xlabel='Predicted Class', ylabel='True Class'>"
      ]
     },
     "execution_count": 15,
     "metadata": {},
     "output_type": "execute_result"
    }
   ],
   "source": [
    "#Confusion Matrix\n",
    "model = DecisionTreeClassifier()\n",
    "visualizer = ConfusionMatrix(model)\n",
    "\n",
    "visualizer.fit(X_train, y_train)  # Fit the training data to the visualizer\n",
    "visualizer.score(X_test, y_test)  # Evaluate the model on the test data\n",
    "visualizer.show()"
   ]
  },
  {
   "cell_type": "markdown",
   "metadata": {},
   "source": [
    "## Understanding a Classification Report - Yellowbrick documentation"
   ]
  },
  {
   "cell_type": "markdown",
   "metadata": {},
   "source": [
    "- **Precision:** How many of our predictions are correct?\n",
    "Precision is the ability of a classiifer not to label an instance positive that is actually negative. For each class it is defined as as the ratio of true positives to the sum of true and false positives. Said another way, “for all instances classified positive, what percent was correct?”\n",
    "\n",
    "\n",
    "- **Recall:** How well do you notice the phenomenon?\n",
    "Recall is the ability of a classifier to find all positive instances. For each class it is defined as the ratio of true positives to the sum of true positives and false negatives. Said another way, “for all instances that were actually positive, what percent was classified correctly?”\n",
    "\n",
    "\n",
    "- **F1 score:**\n",
    "The F1 score is a weighted harmonic mean of precision and recall such that the best score is 1.0 and the worst is 0.0. Generally speaking, F1 scores are lower than accuracy measures as they embed precision and recall into their computation. As a rule of thumb, the weighted average of F1 should be used to compare classifier models, not global accuracy.\n",
    "\n",
    "\n",
    "- **Support:**\n",
    "Support is the number of actual occurrences of the class in the specified dataset. Imbalanced support in the training data may indicate structural weaknesses in the reported scores of the classifier and could indicate the need for stratified sampling or rebalancing. Support doesn’t change between models but instead diagnoses the evaluation process."
   ]
  },
  {
   "cell_type": "code",
   "execution_count": 16,
   "metadata": {},
   "outputs": [
    {
     "name": "stderr",
     "output_type": "stream",
     "text": [
      "/opt/anaconda3/envs/learn-env/lib/python3.6/site-packages/sklearn/base.py:213: FutureWarning: From version 0.24, get_params will raise an AttributeError if a parameter cannot be retrieved as an instance attribute. Previously it would return None.\n",
      "  FutureWarning)\n"
     ]
    },
    {
     "data": {
      "image/png": "[encoded data removed]",
      "text/plain": [
       "<Figure size 576x396 with 2 Axes>"
      ]
     },
     "metadata": {},
     "output_type": "display_data"
    }
   ],
   "source": [
    "#classification report\n",
    "visualizer = classification_report(model,X_train, y_train, X_test, y_test, support=True)"
   ]
  },
  {
   "cell_type": "markdown",
   "metadata": {},
   "source": [
    "### Random Forest Classifier"
   ]
  },
  {
   "cell_type": "markdown",
   "metadata": {},
   "source": [
    "### Random Forest Pros\n",
    "- Perform well on large data sets or data sets with missing values\n",
    "- As an ensemble model, error is minimized as inputs are gathered from all trees to determine an outcome. Variance and overall error are reduced\n",
    "- Not prone to overfitting and can deal well with outliers"
   ]
  },
  {
   "cell_type": "markdown",
   "metadata": {},
   "source": [
    "### Random Forest Cons\n",
    "- Can be thought of as a black box and not as easy to explain how the model works\n",
    "- Features without any importance won't be of any benefit to the model"
   ]
  },
  {
   "cell_type": "code",
   "execution_count": 17,
   "metadata": {},
   "outputs": [],
   "source": [
    "## Finding best parameters\n",
    "parameters={'n_estimators': (100,500,1100), 'criterion': ('gini', 'entropy'),\n",
    "           'max_features': ('auto', 'sqrt', 'log2')}\n",
    "\n",
    "model = RandomForestClassifier()\n",
    "\n",
    "clf_RFC = GridSearchCV(model, parameters)"
   ]
  },
  {
   "cell_type": "code",
   "execution_count": 18,
   "metadata": {},
   "outputs": [],
   "source": [
    "clf_RFC = clf_RFC.fit(X_train,y_train)"
   ]
  },
  {
   "cell_type": "code",
   "execution_count": 19,
   "metadata": {},
   "outputs": [
    {
     "name": "stdout",
     "output_type": "stream",
     "text": [
      "\n",
      " ============================================================================================\n",
      "\n",
      " Results of the GridSearchCV on Random Forest Classifier\n",
      "\n",
      " ============================================================================================\n",
      "\n",
      " The best parameters to use in a model are: \n",
      " {'criterion': 'gini', 'max_features': 'auto', 'n_estimators': 500}\n",
      "\n",
      " The best score achieved is: \n",
      " 0.999082884316733\n"
     ]
    }
   ],
   "source": [
    "#Results of GridSearchCV\n",
    "print('\\n ============================================================================================')\n",
    "print('\\n Results of the GridSearchCV on Random Forest Classifier')#\n",
    "print('\\n ============================================================================================')\n",
    "print('\\n The best parameters to use in a model are: \\n',clf_RFC.best_params_)\n",
    "print('\\n The best score achieved is: \\n',clf_RFC.best_score_ )"
   ]
  },
  {
   "cell_type": "code",
   "execution_count": 20,
   "metadata": {},
   "outputs": [],
   "source": [
    "#Classifer being used in current Pipeline so future changes can be made\n",
    "Model = RandomForestClassifier(criterion='entropy',max_features='log2',n_estimators=1100)\n",
    "\n",
    "#splitting dataframe into numeric and categoric columns\n",
    "numeric_features = ['likes_count','word_count','avg_word_length','stopwords_count',\n",
    "                   'char_count','Sentiment']\n",
    "numeric_transformer = Pipeline([('scaler',StandardScaler())])\n",
    "\n",
    "#categorical_features = ['username']\n",
    "#categorical_transformer = Pipeline([('Encoder',LabelEncoder())])\n",
    "\n",
    "preprocessor = ColumnTransformer(\n",
    "    transformers=[\n",
    "        ('num', numeric_transformer, numeric_features)#('cat', categorical_transformer, categorical_features)\n",
    "        ])\n",
    "    \n",
    "clf_RFC = Pipeline(steps=[('preprocessor', preprocessor),\n",
    "                      ('classifier', Model)])\n",
    "\n"
   ]
  },
  {
   "cell_type": "code",
   "execution_count": 21,
   "metadata": {},
   "outputs": [],
   "source": [
    "#Fitting the model\n",
    "clf_RFC_model = clf_RFC.fit(X_train,y_train)\n",
    "\n",
    "#saving model\n",
    "#pickle.dump( clf_RFC_model, open( \"clf_RFC_model.p\", \"wb\" ) )\n",
    "\n",
    "#loading model\n",
    "clf_RFC = pickle.load( open( \"pickles/clf_RFC_model.p\", \"rb\" ) )\n",
    "\n",
    "#Making predictions with the model\n",
    "#ypred_RFC = clf_RFC.predict(X_test)"
   ]
  },
  {
   "cell_type": "code",
   "execution_count": null,
   "metadata": {},
   "outputs": [],
   "source": []
  },
  {
   "cell_type": "code",
   "execution_count": 22,
   "metadata": {},
   "outputs": [
    {
     "name": "stderr",
     "output_type": "stream",
     "text": [
      "/opt/anaconda3/envs/learn-env/lib/python3.6/site-packages/sklearn/base.py:213: FutureWarning: From version 0.24, get_params will raise an AttributeError if a parameter cannot be retrieved as an instance attribute. Previously it would return None.\n",
      "  FutureWarning)\n"
     ]
    },
    {
     "data": {
      "image/png": "[encoded data removed]",
      "text/plain": [
       "<Figure size 576x396 with 1 Axes>"
      ]
     },
     "metadata": {},
     "output_type": "display_data"
    },
    {
     "data": {
      "text/plain": [
       "<AxesSubplot:title={'center':'RandomForestClassifier Confusion Matrix'}, xlabel='Predicted Class', ylabel='True Class'>"
      ]
     },
     "execution_count": 22,
     "metadata": {},
     "output_type": "execute_result"
    }
   ],
   "source": [
    "#ConfusionMatrix\n",
    "model = RandomForestClassifier()\n",
    "visualizer = ConfusionMatrix(model)\n",
    "\n",
    "visualizer.fit(X_train, y_train)  # Fit the training data to the visualizer\n",
    "visualizer.score(X_test, y_test)  # Evaluate the model on the test data\n",
    "visualizer.show()"
   ]
  },
  {
   "cell_type": "code",
   "execution_count": 23,
   "metadata": {},
   "outputs": [
    {
     "name": "stderr",
     "output_type": "stream",
     "text": [
      "/opt/anaconda3/envs/learn-env/lib/python3.6/site-packages/sklearn/base.py:213: FutureWarning: From version 0.24, get_params will raise an AttributeError if a parameter cannot be retrieved as an instance attribute. Previously it would return None.\n",
      "  FutureWarning)\n"
     ]
    },
    {
     "data": {
      "image/png": "[encoded data removed]",
      "text/plain": [
       "<Figure size 576x396 with 2 Axes>"
      ]
     },
     "metadata": {},
     "output_type": "display_data"
    }
   ],
   "source": [
    "#classification report\n",
    "visualizer = classification_report(model,X_train, y_train, X_test, y_test, support=True)"
   ]
  },
  {
   "cell_type": "markdown",
   "metadata": {},
   "source": [
    "### XGBoost Classifier"
   ]
  },
  {
   "cell_type": "markdown",
   "metadata": {},
   "source": [
    "### XGBoost Pros\n",
    "- Handles large datasets and is relatively fast to train computationally\n",
    "- Less prone to overfitting and often delivers superior performance to other models\n",
    "- Outliers do not affect model and no need for scaling or normalization of data"
   ]
  },
  {
   "cell_type": "markdown",
   "metadata": {},
   "source": [
    "### XGBoost Cons\n",
    "- Hard to fine tune parameters as they are plentiful\n",
    "- Difficult to visualize findings\n",
    "- Overfitting possible if tuning of parameters isn't done well"
   ]
  },
  {
   "cell_type": "code",
   "execution_count": 24,
   "metadata": {},
   "outputs": [],
   "source": [
    "#creating DMatrix - not used, but wanted to try as I read up on it in documentation\n",
    "data_dmatrix = xgb.DMatrix(data=X,label=training_scores_encoded)"
   ]
  },
  {
   "cell_type": "code",
   "execution_count": 25,
   "metadata": {},
   "outputs": [],
   "source": [
    "## Finding best parameters\n",
    "parameters={'learning_rate': (0.01,0.25,0.75), 'n_estimators': (100,1000),\n",
    "           'max_depth': (3,4,5)}\n",
    "\n",
    "model = xgb.XGBClassifier()\n",
    "\n",
    "clf_XGB = GridSearchCV(model, parameters)"
   ]
  },
  {
   "cell_type": "code",
   "execution_count": 26,
   "metadata": {},
   "outputs": [
    {
     "data": {
      "text/plain": [
       "GridSearchCV(estimator=XGBClassifier(),\n",
       "             param_grid={'learning_rate': (0.01, 0.25, 0.75),\n",
       "                         'max_depth': (3, 4, 5), 'n_estimators': (100, 1000)})"
      ]
     },
     "execution_count": 26,
     "metadata": {},
     "output_type": "execute_result"
    }
   ],
   "source": [
    "clf_XGB.fit(X_train,y_train)"
   ]
  },
  {
   "cell_type": "code",
   "execution_count": 27,
   "metadata": {},
   "outputs": [
    {
     "name": "stdout",
     "output_type": "stream",
     "text": [
      "\n",
      " ============================================================================================\n",
      "\n",
      " Results of the GridSearchCV on XGBoost Classifier\n",
      "\n",
      " ============================================================================================\n",
      "\n",
      " The best parameters to use in a model are: \n",
      " {'learning_rate': 0.01, 'max_depth': 3, 'n_estimators': 100}\n",
      "\n",
      " The best score achieved is: \n",
      " 1.0\n"
     ]
    }
   ],
   "source": [
    "#Results of GridSearchCV\n",
    "print('\\n ============================================================================================')\n",
    "print('\\n Results of the GridSearchCV on XGBoost Classifier')\n",
    "print('\\n ============================================================================================')\n",
    "print('\\n The best parameters to use in a model are: \\n',clf_XGB.best_params_)\n",
    "print('\\n The best score achieved is: \\n',clf_XGB.best_score_ )"
   ]
  },
  {
   "cell_type": "code",
   "execution_count": 28,
   "metadata": {},
   "outputs": [],
   "source": [
    "#Classifer being used in current Pipeline so future changes can be made\n",
    "Model = xgb.XGBClassifier(learning_rate= 0.01,max_depth=3, n_estimators= 100)\n",
    "\n",
    "#splitting dataframe into numeric and categoric columns\n",
    "numeric_features = ['likes_count','word_count','avg_word_length','stopwords_count',\n",
    "                   'char_count','Sentiment']\n",
    "numeric_transformer = Pipeline([('scaler',StandardScaler())])\n",
    "\n",
    "#categorical_features = ['username']\n",
    "#categorical_transformer = Pipeline([('encoder',LabelEncoder())])\n",
    "\n",
    "preprocessor = ColumnTransformer(\n",
    "    transformers=[\n",
    "        ('num', numeric_transformer, numeric_features)])\n",
    "        #('cat', categorical_transformer, categorical_features)])\n",
    "\n",
    "clf_XGB = Pipeline(steps=[('preprocessor', preprocessor),\n",
    "                      ('classifier', Model)])"
   ]
  },
  {
   "cell_type": "code",
   "execution_count": 29,
   "metadata": {},
   "outputs": [],
   "source": [
    "#fitting and making predictions with model\n",
    "#clf_XGB = Model\n",
    "clf_XGB_model = clf_XGB.fit(X_train,y_train)\n",
    "\n",
    "#saving the model\n",
    "#pickle.dump(clf_XGB_model , open( \"clf_XGB_model.p\", \"wb\" ) )\n",
    "\n",
    "#loading the model\n",
    "clf_XGB = pickle.load( open( \"pickles/clf_XGB_model.p\", \"rb\" ) )\n",
    "\n",
    "#ypred_XGB = clf_XGB.predict(X_test)"
   ]
  },
  {
   "cell_type": "code",
   "execution_count": 30,
   "metadata": {},
   "outputs": [
    {
     "name": "stderr",
     "output_type": "stream",
     "text": [
      "/opt/anaconda3/envs/learn-env/lib/python3.6/site-packages/sklearn/base.py:213: FutureWarning: From version 0.24, get_params will raise an AttributeError if a parameter cannot be retrieved as an instance attribute. Previously it would return None.\n",
      "  FutureWarning)\n"
     ]
    },
    {
     "data": {
      "image/png": "[encoded data removed]",
      "text/plain": [
       "<Figure size 576x396 with 1 Axes>"
      ]
     },
     "metadata": {},
     "output_type": "display_data"
    },
    {
     "data": {
      "text/plain": [
       "<AxesSubplot:title={'center':'XGBClassifier Confusion Matrix'}, xlabel='Predicted Class', ylabel='True Class'>"
      ]
     },
     "execution_count": 30,
     "metadata": {},
     "output_type": "execute_result"
    }
   ],
   "source": [
    "#ConfusionMatrix\n",
    "model = clf_XGB_model\n",
    "visualizer = ConfusionMatrix(model)\n",
    "\n",
    "visualizer.fit(X_train, y_train)  # Fit the training data to the visualizer\n",
    "visualizer.score(X_test, y_test)  # Evaluate the model on the test data\n",
    "visualizer.show()"
   ]
  },
  {
   "cell_type": "code",
   "execution_count": 31,
   "metadata": {},
   "outputs": [
    {
     "name": "stderr",
     "output_type": "stream",
     "text": [
      "/opt/anaconda3/envs/learn-env/lib/python3.6/site-packages/sklearn/base.py:213: FutureWarning: From version 0.24, get_params will raise an AttributeError if a parameter cannot be retrieved as an instance attribute. Previously it would return None.\n",
      "  FutureWarning)\n"
     ]
    },
    {
     "data": {
      "image/png": "[encoded data removed]",
      "text/plain": [
       "<Figure size 576x396 with 2 Axes>"
      ]
     },
     "metadata": {},
     "output_type": "display_data"
    }
   ],
   "source": [
    "#classification report\n",
    "visualizer = classification_report(clf_XGB_model,X_train, y_train, X_test, y_test, support=True)"
   ]
  },
  {
   "cell_type": "markdown",
   "metadata": {},
   "source": [
    "## Model Selection"
   ]
  },
  {
   "cell_type": "code",
   "execution_count": 32,
   "metadata": {},
   "outputs": [
    {
     "name": "stderr",
     "output_type": "stream",
     "text": [
      "[nltk_data] Downloading package stopwords to\n",
      "[nltk_data]     /Users/jamaalsmith/nltk_data...\n",
      "[nltk_data]   Package stopwords is already up-to-date!\n"
     ]
    }
   ],
   "source": [
    "#ROC curves\n",
    "#def ROC_Curve (Model, X,y):\n",
    "    #X_train,X_test,y_train,y_test = train_test_split(X,y,test_size=.15)\n",
    "    #model = Model\n",
    "    #visualizer = ROCAUC(Model)\n",
    "\n",
    "    #visualizer.fit(X_train, y_train)        # Fit the training data to the visualizer\n",
    "    #visualizer.score(X_test, y_test)        # Evaluate the model on the test data\n",
    "    #visualizer.show()     \n",
    "    \n",
    "from functions.Capstone_functions import *"
   ]
  },
  {
   "cell_type": "code",
   "execution_count": 33,
   "metadata": {},
   "outputs": [
    {
     "data": {
      "application/vnd.jupyter.widget-view+json": {
       "model_id": "a8452c5b4adc465db9ba89c934dd1431",
       "version_major": 2,
       "version_minor": 0
      },
      "text/plain": [
       "interactive(children=(Dropdown(description='Model', options=(DecisionTreeClassifier(), Pipeline(steps=[('prepr…"
      ]
     },
     "metadata": {},
     "output_type": "display_data"
    },
    {
     "data": {
      "text/plain": [
       "<function functions.Capstone_functions.ROC_Curve(Model, X, y)>"
      ]
     },
     "execution_count": 33,
     "metadata": {},
     "output_type": "execute_result"
    }
   ],
   "source": [
    "model_selection = [clf_DT_model,clf_RFC_model,clf_XGB_model]\n",
    "interact(ROC_Curve,Model=model_selection,X=fixed(X),y=fixed(training_scores_encoded))"
   ]
  },
  {
   "cell_type": "markdown",
   "metadata": {},
   "source": [
    "# Model Choice\n",
    "\n",
    "With minimal difference between the Random Forest and XGBoost model in terms of precision and recall, the deciding factor was which model could possibly fit unseen data the best. Based on the ROC curves above, the RandomForest Classifier is the better model for making predictions with data that has not yet been seen."
   ]
  },
  {
   "cell_type": "code",
   "execution_count": 34,
   "metadata": {},
   "outputs": [
    {
     "name": "stdout",
     "output_type": "stream",
     "text": [
      "feature: likes_count, importance: 0.7712000608444214\n",
      "feature: positive, importance: 0.03914665803313255\n",
      "feature: death, importance: 0.04437295347452164\n",
      "feature: word_count, importance: 0.03290253132581711\n",
      "feature: avg_word_length, importance: 0.0\n",
      "feature: stopwords_count, importance: 0.0\n",
      "feature: char_count, importance: 0.0\n",
      "feature: Sentiment, importance: 0.0\n",
      "feature: Biden (D), importance: 0.03875676915049553\n",
      "feature: Trump (R), importance: 0.023475270718336105\n",
      "feature: Topic, importance: 0.028665093705058098\n"
     ]
    }
   ],
   "source": [
    "#Feature importances of XGBoost model\n",
    "for feat, importance in zip(X.columns, clf_XGB.feature_importances_):\n",
    "    print ('feature: {f}, importance: {i}'.format(f=feat, i=importance))"
   ]
  },
  {
   "cell_type": "code",
   "execution_count": 35,
   "metadata": {},
   "outputs": [
    {
     "ename": "ValueError",
     "evalue": "Length of passed values is 12, index implies 11.",
     "output_type": "error",
     "traceback": [
      "\u001b[0;31m---------------------------------------------------------------------------\u001b[0m",
      "\u001b[0;31mValueError\u001b[0m                                Traceback (most recent call last)",
      "\u001b[0;32m<ipython-input-35-3a6d685a721f>\u001b[0m in \u001b[0;36m<module>\u001b[0;34m\u001b[0m\n\u001b[1;32m      1\u001b[0m \u001b[0;31m#Feature Importances in Visual Form\u001b[0m\u001b[0;34m\u001b[0m\u001b[0;34m\u001b[0m\u001b[0;34m\u001b[0m\u001b[0m\n\u001b[0;32m----> 2\u001b[0;31m (pd.Series(clf_XGB.feature_importances_, index=X_train.columns)\n\u001b[0m\u001b[1;32m      3\u001b[0m    \u001b[0;34m.\u001b[0m\u001b[0mnlargest\u001b[0m\u001b[0;34m(\u001b[0m\u001b[0mlen\u001b[0m\u001b[0;34m(\u001b[0m\u001b[0mX\u001b[0m\u001b[0;34m.\u001b[0m\u001b[0mcolumns\u001b[0m\u001b[0;34m)\u001b[0m\u001b[0;34m)\u001b[0m\u001b[0;34m\u001b[0m\u001b[0;34m\u001b[0m\u001b[0m\n\u001b[1;32m      4\u001b[0m    .plot(kind='barh'))   \n",
      "\u001b[0;32m/opt/anaconda3/envs/learn-env/lib/python3.6/site-packages/pandas/core/series.py\u001b[0m in \u001b[0;36m__init__\u001b[0;34m(self, data, index, dtype, name, copy, fastpath)\u001b[0m\n\u001b[1;32m    312\u001b[0m                     \u001b[0;32mif\u001b[0m \u001b[0mlen\u001b[0m\u001b[0;34m(\u001b[0m\u001b[0mindex\u001b[0m\u001b[0;34m)\u001b[0m \u001b[0;34m!=\u001b[0m \u001b[0mlen\u001b[0m\u001b[0;34m(\u001b[0m\u001b[0mdata\u001b[0m\u001b[0;34m)\u001b[0m\u001b[0;34m:\u001b[0m\u001b[0;34m\u001b[0m\u001b[0;34m\u001b[0m\u001b[0m\n\u001b[1;32m    313\u001b[0m                         raise ValueError(\n\u001b[0;32m--> 314\u001b[0;31m                             \u001b[0;34mf\"Length of passed values is {len(data)}, \"\u001b[0m\u001b[0;34m\u001b[0m\u001b[0;34m\u001b[0m\u001b[0m\n\u001b[0m\u001b[1;32m    315\u001b[0m                             \u001b[0;34mf\"index implies {len(index)}.\"\u001b[0m\u001b[0;34m\u001b[0m\u001b[0;34m\u001b[0m\u001b[0m\n\u001b[1;32m    316\u001b[0m                         )\n",
      "\u001b[0;31mValueError\u001b[0m: Length of passed values is 12, index implies 11."
     ]
    }
   ],
   "source": [
    "#Feature Importances in Visual Form\n",
    "(pd.Series(clf_XGB.feature_importances_, index=X_train.columns)\n",
    "   .nlargest(len(X.columns))\n",
    "   .plot(kind='barh'))   "
   ]
  },
  {
   "cell_type": "code",
   "execution_count": null,
   "metadata": {},
   "outputs": [],
   "source": []
  }
 ],
 "metadata": {
  "kernelspec": {
   "display_name": "Python [conda env:learn-env] *",
   "language": "python",
   "name": "conda-env-learn-env-py"
  },
  "toc": {
   "base_numbering": 1,
   "nav_menu": {},
   "number_sections": true,
   "sideBar": true,
   "skip_h1_title": false,
   "title_cell": "Table of Contents",
   "title_sidebar": "Contents",
   "toc_cell": false,
   "toc_position": {},
   "toc_section_display": true,
   "toc_window_display": false
  },
  "varInspector": {
   "cols": {
    "lenName": 16,
    "lenType": 16,
    "lenVar": 40
   },
   "kernels_config": {
    "python": {
     "delete_cmd_postfix": "",
     "delete_cmd_prefix": "del ",
     "library": "var_list.py",
     "varRefreshCmd": "print(var_dic_list())"
    },
    "r": {
     "delete_cmd_postfix": ") ",
     "delete_cmd_prefix": "rm(",
     "library": "var_list.r",
     "varRefreshCmd": "cat(var_dic_list()) "
    }
   },
   "types_to_exclude": [
    "module",
    "function",
    "builtin_function_or_method",
    "instance",
    "_Feature"
   ],
   "window_display": false
  }
 },
 "nbformat": 4,
 "nbformat_minor": 2
}
