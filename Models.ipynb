{
 "cells": [
  {
   "cell_type": "markdown",
   "metadata": {},
   "source": [
    "# Modeling"
   ]
  },
  {
   "cell_type": "markdown",
   "metadata": {},
   "source": [
    "## Open items to do \n",
    " - utilize cross validation to measure model performance\n",
    " - utilize cross validation to make predictions on training data not the test data\n",
    " - set classes to be predicted with a measure of Biden's victory that takes MOE into consideration**\n",
    " - include measures such as precison and recall to really gauge performance of models\n",
    " - most important \n",
    " - **ROC curves**\n",
    " - XGBOOST model**\n",
    " - can this be done with a deep learning model\n",
    " - Readme\n",
    " - start making dashboards/outputs\n",
    " - get new data and add to see if scores are any better**\n",
    " - feature importance - take out the feature that might be to close to the target**\n",
    " - see if GridSearch has CrossValidation\n",
    " - **clean up the EDA notebook**\n",
    " - SQL"
   ]
  },
  {
   "cell_type": "code",
   "execution_count": 1,
   "metadata": {},
   "outputs": [],
   "source": [
    "#pip install eli5"
   ]
  },
  {
   "cell_type": "code",
   "execution_count": 2,
   "metadata": {},
   "outputs": [
    {
     "name": "stderr",
     "output_type": "stream",
     "text": [
      "/opt/anaconda3/envs/learn-env/lib/python3.6/site-packages/statsmodels/tools/_testing.py:19: FutureWarning: pandas.util.testing is deprecated. Use the functions in the public API at pandas.testing instead.\n",
      "  import pandas.util.testing as tm\n",
      "/opt/anaconda3/envs/learn-env/lib/python3.6/site-packages/sklearn/utils/deprecation.py:143: FutureWarning: The sklearn.metrics.scorer module is  deprecated in version 0.22 and will be removed in version 0.24. The corresponding classes / functions should instead be imported from sklearn.metrics. Anything that cannot be imported from sklearn.metrics is now part of the private API.\n",
      "  warnings.warn(message, FutureWarning)\n",
      "/opt/anaconda3/envs/learn-env/lib/python3.6/site-packages/sklearn/utils/deprecation.py:143: FutureWarning: The sklearn.feature_selection.base module is  deprecated in version 0.22 and will be removed in version 0.24. The corresponding classes / functions should instead be imported from sklearn.feature_selection. Anything that cannot be imported from sklearn.feature_selection is now part of the private API.\n",
      "  warnings.warn(message, FutureWarning)\n",
      "Using TensorFlow backend.\n"
     ]
    }
   ],
   "source": [
    "import seaborn as sns\n",
    "import pandas as pd\n",
    "import datetime as dt\n",
    "import eli5\n",
    "import waterfall_chart\n",
    "import matplotlib.pyplot as plt\n",
    "from ipywidgets import interact, interactive, fixed, interact_manual\n",
    "import ipywidgets as widgets\n"
   ]
  },
  {
   "cell_type": "code",
   "execution_count": 3,
   "metadata": {},
   "outputs": [
    {
     "name": "stderr",
     "output_type": "stream",
     "text": [
      "/opt/anaconda3/envs/learn-env/lib/python3.6/site-packages/sklearn/utils/deprecation.py:143: FutureWarning: The sklearn.metrics.classification module is  deprecated in version 0.22 and will be removed in version 0.24. The corresponding classes / functions should instead be imported from sklearn.metrics. Anything that cannot be imported from sklearn.metrics is now part of the private API.\n",
      "  warnings.warn(message, FutureWarning)\n"
     ]
    }
   ],
   "source": [
    "from sklearn.pipeline import Pipeline\n",
    "from sklearn.preprocessing import StandardScaler, OneHotEncoder, LabelEncoder\n",
    "from sklearn.model_selection import train_test_split\n",
    "from sklearn.model_selection import GridSearchCV\n",
    "from sklearn.impute import SimpleImputer \n",
    "from sklearn.dummy import DummyRegressor\n",
    "from sklearn.compose import ColumnTransformer\n",
    "from sklearn.tree import DecisionTreeClassifier\n",
    "from sklearn.ensemble import RandomForestClassifier\n",
    "from yellowbrick.regressor import PredictionError\n",
    "from yellowbrick.classifier import ConfusionMatrix\n",
    "from yellowbrick.classifier import classification_report\n",
    "from yellowbrick.classifier import ROCAUC\n",
    "import xgboost as xgb"
   ]
  },
  {
   "cell_type": "code",
   "execution_count": 4,
   "metadata": {},
   "outputs": [
    {
     "data": {
      "text/plain": [
       "Index(['date', 'username', 'replies_count', 'retweets_count', 'likes_count',\n",
       "       'video', 'geo', 'positive', 'death', 'word_count', 'avg_word_length',\n",
       "       'stopwords_count', 'char_count', 'stopwords', 'Sentiment', 'Topic',\n",
       "       'Target'],\n",
       "      dtype='object')"
      ]
     },
     "execution_count": 4,
     "metadata": {},
     "output_type": "execute_result"
    }
   ],
   "source": [
    "# getting tweet df up and running\n",
    "Master_tweet_dataset = pd.read_csv('data/Master_Tweet_modelready.csv')\n",
    "Master_tweet_dataset = Master_tweet_dataset.drop(['clean_text','Unnamed: 0'],axis=1)\n",
    "Master_tweet_dataset.columns"
   ]
  },
  {
   "cell_type": "code",
   "execution_count": 5,
   "metadata": {},
   "outputs": [],
   "source": [
    "Master_tweet_dataset = Master_tweet_dataset.drop(['username','geo','stopwords','Topic'],axis=1)"
   ]
  },
  {
   "cell_type": "code",
   "execution_count": 6,
   "metadata": {},
   "outputs": [],
   "source": [
    "## Variable Designation#\n",
    "X = Master_tweet_dataset.drop('Target',axis=1)\n",
    "y= Master_tweet_dataset.iloc[:,-1]"
   ]
  },
  {
   "cell_type": "code",
   "execution_count": 7,
   "metadata": {},
   "outputs": [],
   "source": [
    "#apply the LabelEncoder to y values to get rid of continuous error\n",
    "lab_enc = LabelEncoder()\n",
    "training_scores_encoded = lab_enc.fit_transform(y)\n"
   ]
  },
  {
   "cell_type": "markdown",
   "metadata": {},
   "source": [
    "## Data Split"
   ]
  },
  {
   "cell_type": "code",
   "execution_count": 8,
   "metadata": {},
   "outputs": [],
   "source": [
    "X_train, X_test, y_train, y_test = train_test_split(X, training_scores_encoded,test_size=.15)"
   ]
  },
  {
   "cell_type": "code",
   "execution_count": 9,
   "metadata": {},
   "outputs": [],
   "source": [
    "#def datetime_to_int(dt):\n",
    " #   return int(dt.strftime(\"%Y%m%d\"))"
   ]
  },
  {
   "cell_type": "code",
   "execution_count": 10,
   "metadata": {},
   "outputs": [
    {
     "name": "stderr",
     "output_type": "stream",
     "text": [
      "/opt/anaconda3/envs/learn-env/lib/python3.6/site-packages/ipykernel_launcher.py:1: SettingWithCopyWarning: \n",
      "A value is trying to be set on a copy of a slice from a DataFrame.\n",
      "Try using .loc[row_indexer,col_indexer] = value instead\n",
      "\n",
      "See the caveats in the documentation: https://pandas.pydata.org/pandas-docs/stable/user_guide/indexing.html#returning-a-view-versus-a-copy\n",
      "  \"\"\"Entry point for launching an IPython kernel.\n"
     ]
    }
   ],
   "source": [
    "X_train['date'] = X_train['date'].astype(int)"
   ]
  },
  {
   "cell_type": "markdown",
   "metadata": {},
   "source": [
    "## Pipeline Creation"
   ]
  },
  {
   "cell_type": "code",
   "execution_count": 11,
   "metadata": {},
   "outputs": [],
   "source": [
    "#Classifer being used in current Pipeline so future changes can be made\n",
    "Model = DummyRegressor()\n",
    "\n",
    "#splitting dataframe into numeric and categoric columns\n",
    "numeric_features = ['likes_count', 'replies_count','retweets_count','word_count','avg_word_length','stopwords_count',\n",
    "                   'char_count','Sentiment']\n",
    "numeric_transformer = Pipeline([('scaler',StandardScaler())])\n",
    "\n",
    "#categorical_features = ['Target']\n",
    "#categorical_transformer = Pipeline([('encoder',LabelEncoder())])\n",
    "\n",
    "preprocessor = ColumnTransformer(\n",
    "    transformers=[\n",
    "        ('num', numeric_transformer, numeric_features)])#,('cat', categorical_transformer, categorical_features)])\n",
    "\n",
    "clf = Pipeline(steps=[('preprocessor', preprocessor),\n",
    "                      ('classifier', Model)])"
   ]
  },
  {
   "cell_type": "markdown",
   "metadata": {},
   "source": [
    "## Models"
   ]
  },
  {
   "cell_type": "markdown",
   "metadata": {},
   "source": [
    "### Baseline Model"
   ]
  },
  {
   "cell_type": "code",
   "execution_count": 12,
   "metadata": {},
   "outputs": [
    {
     "data": {
      "text/plain": [
       "Pipeline(steps=[('preprocessor',\n",
       "                 ColumnTransformer(transformers=[('num',\n",
       "                                                  Pipeline(steps=[('scaler',\n",
       "                                                                   StandardScaler())]),\n",
       "                                                  ['likes_count',\n",
       "                                                   'replies_count',\n",
       "                                                   'retweets_count',\n",
       "                                                   'word_count',\n",
       "                                                   'avg_word_length',\n",
       "                                                   'stopwords_count',\n",
       "                                                   'char_count',\n",
       "                                                   'Sentiment'])])),\n",
       "                ('classifier', DummyRegressor())])"
      ]
     },
     "execution_count": 12,
     "metadata": {},
     "output_type": "execute_result"
    }
   ],
   "source": [
    "clf.fit(X_train,y_train)"
   ]
  },
  {
   "cell_type": "code",
   "execution_count": 13,
   "metadata": {},
   "outputs": [
    {
     "data": {
      "text/plain": [
       "-0.00029293986514700165"
      ]
     },
     "execution_count": 13,
     "metadata": {},
     "output_type": "execute_result"
    }
   ],
   "source": [
    "clf.score(X_test,y_test)"
   ]
  },
  {
   "cell_type": "markdown",
   "metadata": {},
   "source": [
    "### Decision Tree Classifier"
   ]
  },
  {
   "cell_type": "code",
   "execution_count": 14,
   "metadata": {},
   "outputs": [],
   "source": [
    "#Classifer being used in current Pipeline so future changes can be made\n",
    "Model = DecisionTreeClassifier()\n",
    "\n",
    "#splitting dataframe into numeric and categoric columns\n",
    "numeric_features = ['likes_count', 'replies_count','retweets_count','word_count','avg_word_length','stopwords_count',\n",
    "                   'char_count','Sentiment']\n",
    "numeric_transformer = Pipeline([('scaler',StandardScaler())])\n",
    "\n",
    "categorical_features = ['Target']\n",
    "categorical_transformer = Pipeline([('Encoder',LabelEncoder())])\n",
    "\n",
    "preprocessor = ColumnTransformer(\n",
    "    transformers=[\n",
    "        ('num', numeric_transformer, numeric_features),('cat', categorical_transformer, categorical_features)\n",
    "        ])\n",
    "    \n",
    "clf_DT = Pipeline(steps=[('preprocessor', preprocessor),\n",
    "                      ('classifier', Model)])\n",
    "\n"
   ]
  },
  {
   "cell_type": "code",
   "execution_count": 15,
   "metadata": {},
   "outputs": [
    {
     "data": {
      "text/plain": [
       "GridSearchCV(estimator=DecisionTreeClassifier(),\n",
       "             param_grid={'criterion': ('gini', 'entropy'),\n",
       "                         'splitter': ('best', 'random')})"
      ]
     },
     "execution_count": 15,
     "metadata": {},
     "output_type": "execute_result"
    }
   ],
   "source": [
    "## Finding best parameters\n",
    "parameters={'criterion': ('gini','entropy'), 'splitter': ('best', 'random')}\n",
    "\n",
    "model = DecisionTreeClassifier()\n",
    "\n",
    "clf_DT = GridSearchCV(model, parameters)\n",
    "\n",
    "clf_DT.fit(X_train,y_train)\n"
   ]
  },
  {
   "cell_type": "code",
   "execution_count": 16,
   "metadata": {},
   "outputs": [
    {
     "name": "stdout",
     "output_type": "stream",
     "text": [
      "\n",
      " ============================================================================================\n",
      "\n",
      " Results of the GridSearchCV on Decision Tree Classifier\n",
      "\n",
      " ============================================================================================\n",
      "\n",
      " The best parameters to use in a model are: \n",
      " {'criterion': 'entropy', 'splitter': 'random'}\n",
      "\n",
      " The best score achieved is: \n",
      " 0.5924742905058455\n",
      "\n",
      " ============================================================================================\n"
     ]
    }
   ],
   "source": [
    "#Results of GridSearchCV\n",
    "print('\\n ============================================================================================')\n",
    "print('\\n Results of the GridSearchCV on Decision Tree Classifier')\n",
    "print('\\n ============================================================================================')\n",
    "print('\\n The best parameters to use in a model are: \\n',clf_DT.best_params_)\n",
    "print('\\n The best score achieved is: \\n',clf_DT.best_score_ )\n",
    "print('\\n ============================================================================================')"
   ]
  },
  {
   "cell_type": "code",
   "execution_count": 17,
   "metadata": {},
   "outputs": [
    {
     "data": {
      "text/plain": [
       "array([1, 0, 0, ..., 0, 0, 0])"
      ]
     },
     "execution_count": 17,
     "metadata": {},
     "output_type": "execute_result"
    }
   ],
   "source": [
    "#fitting and making predictions with model\n",
    "clf_DT = DecisionTreeClassifier(criterion='gini',splitter='best')\n",
    "clf_DT_model = clf_DT.fit(X_train,y_train)\n",
    "clf_DT.predict(X_test)"
   ]
  },
  {
   "cell_type": "code",
   "execution_count": 18,
   "metadata": {},
   "outputs": [
    {
     "name": "stderr",
     "output_type": "stream",
     "text": [
      "/opt/anaconda3/envs/learn-env/lib/python3.6/site-packages/sklearn/base.py:213: FutureWarning: From version 0.24, get_params will raise an AttributeError if a parameter cannot be retrieved as an instance attribute. Previously it would return None.\n",
      "  FutureWarning)\n"
     ]
    },
    {
     "data": {
      "image/png": "[encoded data removed]",
      "text/plain": [
       "<Figure size 576x396 with 1 Axes>"
      ]
     },
     "metadata": {},
     "output_type": "display_data"
    },
    {
     "data": {
      "text/plain": [
       "<AxesSubplot:title={'center':'DecisionTreeClassifier Confusion Matrix'}, xlabel='Predicted Class', ylabel='True Class'>"
      ]
     },
     "execution_count": 18,
     "metadata": {},
     "output_type": "execute_result"
    }
   ],
   "source": [
    "#Confusion Matrix\n",
    "model = DecisionTreeClassifier()\n",
    "visualizer = ConfusionMatrix(model)\n",
    "\n",
    "visualizer.fit(X_train, y_train)  # Fit the training data to the visualizer\n",
    "visualizer.score(X_test, y_test)  # Evaluate the model on the test data\n",
    "visualizer.show()"
   ]
  },
  {
   "cell_type": "code",
   "execution_count": 19,
   "metadata": {},
   "outputs": [
    {
     "name": "stderr",
     "output_type": "stream",
     "text": [
      "/opt/anaconda3/envs/learn-env/lib/python3.6/site-packages/sklearn/base.py:213: FutureWarning: From version 0.24, get_params will raise an AttributeError if a parameter cannot be retrieved as an instance attribute. Previously it would return None.\n",
      "  FutureWarning)\n"
     ]
    },
    {
     "data": {
      "image/png": "[encoded data removed]",
      "text/plain": [
       "<Figure size 576x396 with 2 Axes>"
      ]
     },
     "metadata": {},
     "output_type": "display_data"
    }
   ],
   "source": [
    "#classification report\n",
    "visualizer = classification_report(model,X_train, y_train, X_test, y_test, support=True)"
   ]
  },
  {
   "cell_type": "markdown",
   "metadata": {},
   "source": [
    "### Random Forest Classifier"
   ]
  },
  {
   "cell_type": "code",
   "execution_count": 20,
   "metadata": {},
   "outputs": [],
   "source": [
    "## Finding best parameters\n",
    "parameters={'n_estimators': (100,500,1100), 'criterion': ('gini', 'entropy'),\n",
    "           'max_features': ('auto', 'sqrt', 'log2')}\n",
    "\n",
    "model = RandomForestClassifier()\n",
    "\n",
    "clf_RFC = GridSearchCV(model, parameters)"
   ]
  },
  {
   "cell_type": "code",
   "execution_count": 21,
   "metadata": {},
   "outputs": [],
   "source": [
    "clf_RFC_model = clf_RFC.fit(X_train,y_train)"
   ]
  },
  {
   "cell_type": "code",
   "execution_count": 22,
   "metadata": {},
   "outputs": [
    {
     "name": "stdout",
     "output_type": "stream",
     "text": [
      "\n",
      " ============================================================================================\n",
      "\n",
      " Results of the GridSearchCV on Random Forest Classifier\n",
      "\n",
      " ============================================================================================\n",
      "\n",
      " The best parameters to use in a model are: \n",
      " {'criterion': 'entropy', 'max_features': 'sqrt', 'n_estimators': 500}\n",
      "\n",
      " The best score achieved is: \n",
      " 0.6878445430095227\n"
     ]
    }
   ],
   "source": [
    "#Results of GridSearchCV\n",
    "print('\\n ============================================================================================')\n",
    "print('\\n Results of the GridSearchCV on Random Forest Classifier')\n",
    "print('\\n ============================================================================================')\n",
    "print('\\n The best parameters to use in a model are: \\n',clf_RFC.best_params_)\n",
    "print('\\n The best score achieved is: \\n',clf_RFC.best_score_ )"
   ]
  },
  {
   "cell_type": "code",
   "execution_count": 23,
   "metadata": {},
   "outputs": [],
   "source": [
    "#Classifer being used in current Pipeline so future changes can be made\n",
    "Model = RandomForestClassifier(criterion='entropy',max_features='log2',n_estimators=1100)\n",
    "\n",
    "#splitting dataframe into numeric and categoric columns\n",
    "numeric_features = ['likes_count', 'replies_count','retweets_count','word_count','avg_word_length','stopwords_count',\n",
    "                   'char_count','Sentiment']\n",
    "numeric_transformer = Pipeline([('scaler',StandardScaler())])\n",
    "\n",
    "#categorical_features = ['Target']\n",
    "#categorical_transformer = Pipeline([('imputer',SimpleImputer(strategy='constant',fill_value='Likely Trump'))])\n",
    "\n",
    "preprocessor = ColumnTransformer(\n",
    "    transformers=[\n",
    "        ('num', numeric_transformer, numeric_features)])\n",
    "        #('cat', categorical_transformer, categorical_features)])\n",
    "\n",
    "clf_RFC = Pipeline(steps=[('preprocessor', preprocessor),\n",
    "                      ('classifier', Model)])"
   ]
  },
  {
   "cell_type": "code",
   "execution_count": 24,
   "metadata": {},
   "outputs": [
    {
     "data": {
      "text/plain": [
       "array([1, 0, 0, ..., 0, 0, 0])"
      ]
     },
     "execution_count": 24,
     "metadata": {},
     "output_type": "execute_result"
    }
   ],
   "source": [
    "#Fitting the model\n",
    "clf_RFC_model = clf_RFC.fit(X_train,y_train)\n",
    "#Making predictions with the model\n",
    "clf_RFC.predict(X_test)"
   ]
  },
  {
   "cell_type": "code",
   "execution_count": 25,
   "metadata": {},
   "outputs": [
    {
     "name": "stderr",
     "output_type": "stream",
     "text": [
      "/opt/anaconda3/envs/learn-env/lib/python3.6/site-packages/sklearn/base.py:213: FutureWarning: From version 0.24, get_params will raise an AttributeError if a parameter cannot be retrieved as an instance attribute. Previously it would return None.\n",
      "  FutureWarning)\n"
     ]
    },
    {
     "data": {
      "image/png": "[encoded data removed]",
      "text/plain": [
       "<Figure size 576x396 with 1 Axes>"
      ]
     },
     "metadata": {},
     "output_type": "display_data"
    },
    {
     "data": {
      "text/plain": [
       "<AxesSubplot:title={'center':'RandomForestClassifier Confusion Matrix'}, xlabel='Predicted Class', ylabel='True Class'>"
      ]
     },
     "execution_count": 25,
     "metadata": {},
     "output_type": "execute_result"
    }
   ],
   "source": [
    "#ConfusionMatrix\n",
    "model = RandomForestClassifier()\n",
    "visualizer = ConfusionMatrix(model)\n",
    "\n",
    "visualizer.fit(X_train, y_train)  # Fit the training data to the visualizer\n",
    "visualizer.score(X_test, y_test)  # Evaluate the model on the test data\n",
    "visualizer.show()"
   ]
  },
  {
   "cell_type": "code",
   "execution_count": 26,
   "metadata": {},
   "outputs": [
    {
     "name": "stderr",
     "output_type": "stream",
     "text": [
      "/opt/anaconda3/envs/learn-env/lib/python3.6/site-packages/sklearn/base.py:213: FutureWarning: From version 0.24, get_params will raise an AttributeError if a parameter cannot be retrieved as an instance attribute. Previously it would return None.\n",
      "  FutureWarning)\n"
     ]
    },
    {
     "data": {
      "image/png": "[encoded data removed]",
      "text/plain": [
       "<Figure size 576x396 with 2 Axes>"
      ]
     },
     "metadata": {},
     "output_type": "display_data"
    }
   ],
   "source": [
    "#classification report\n",
    "visualizer = classification_report(model,X_train, y_train, X_test, y_test, support=True)"
   ]
  },
  {
   "cell_type": "markdown",
   "metadata": {},
   "source": [
    "### XGBoost Classifier"
   ]
  },
  {
   "cell_type": "code",
   "execution_count": 27,
   "metadata": {},
   "outputs": [],
   "source": [
    "#installing XGBoost\n",
    "#!pip install xgboost"
   ]
  },
  {
   "cell_type": "code",
   "execution_count": 28,
   "metadata": {},
   "outputs": [],
   "source": [
    "#creating DMatrix\n",
    "data_dmatrix = xgb.DMatrix(data=X,label=training_scores_encoded)\n",
    "\n"
   ]
  },
  {
   "cell_type": "code",
   "execution_count": 29,
   "metadata": {},
   "outputs": [],
   "source": [
    "## Finding best parameters\n",
    "parameters={'learning_rate': (0.01,0.25,0.75), 'n_estimators': (100,1000),\n",
    "           'max_depth': (3,4,5)}\n",
    "\n",
    "model = xgb.XGBClassifier()\n",
    "\n",
    "clf_XGB = GridSearchCV(model, parameters)"
   ]
  },
  {
   "cell_type": "code",
   "execution_count": null,
   "metadata": {},
   "outputs": [],
   "source": [
    "clf_XGB.fit(X_train,y_train)"
   ]
  },
  {
   "cell_type": "code",
   "execution_count": null,
   "metadata": {},
   "outputs": [],
   "source": [
    "#Results of GridSearchCV\n",
    "print('\\n ============================================================================================')\n",
    "print('\\n Results of the GridSearchCV on XGBoost Classifier')\n",
    "print('\\n ============================================================================================')\n",
    "print('\\n The best parameters to use in a model are: \\n',clf_XGB.best_params_)\n",
    "print('\\n The best score achieved is: \\n',clf_XGB.best_score_ )"
   ]
  },
  {
   "cell_type": "code",
   "execution_count": null,
   "metadata": {},
   "outputs": [],
   "source": [
    "#Classifer being used in current Pipeline so future changes can be made\n",
    "Model = xgb.XGBClassifier(learning_rate= 0.01,max_depth=3, n_estimators= 100)\n",
    "\n",
    "#splitting dataframe into numeric and categoric columns\n",
    "numeric_features = ['likes_count', 'replies_count','retweets_count','word_count','avg_word_length','stopwords_count',\n",
    "                   'char_count','Sentiment']\n",
    "numeric_transformer = Pipeline([('scaler',StandardScaler())])\n",
    "\n",
    "#categorical_features = ['Target']\n",
    "#categorical_transformer = Pipeline([('imputer',SimpleImputer(strategy='constant',fill_value='Likely Trump'))])\n",
    "\n",
    "preprocessor = ColumnTransformer(\n",
    "    transformers=[\n",
    "        ('num', numeric_transformer, numeric_features)])\n",
    "        #('cat', categorical_transformer, categorical_features)])\n",
    "\n",
    "clf_XGB = Pipeline(steps=[('preprocessor', preprocessor),\n",
    "                      ('classifier', Model)])"
   ]
  },
  {
   "cell_type": "code",
   "execution_count": null,
   "metadata": {},
   "outputs": [],
   "source": [
    "#fitting and making predictions with model\n",
    "clf_XGB = Model\n",
    "clf_XGB_model = clf_XGB.fit(X_train,y_train)\n",
    "clf_XGB.predict(X_test)"
   ]
  },
  {
   "cell_type": "code",
   "execution_count": null,
   "metadata": {},
   "outputs": [],
   "source": [
    "#ConfusionMatrix\n",
    "model = clf_XGB\n",
    "visualizer = ConfusionMatrix(model)\n",
    "\n",
    "visualizer.fit(X_train, y_train)  # Fit the training data to the visualizer\n",
    "visualizer.score(X_test, y_test)  # Evaluate the model on the test data\n",
    "visualizer.show()"
   ]
  },
  {
   "cell_type": "code",
   "execution_count": null,
   "metadata": {},
   "outputs": [],
   "source": [
    "#classification report\n",
    "visualizer = classification_report(clf_XGB,X_train, y_train, X_test, y_test, support=True)"
   ]
  },
  {
   "cell_type": "markdown",
   "metadata": {},
   "source": [
    "## Model Selection"
   ]
  },
  {
   "cell_type": "code",
   "execution_count": null,
   "metadata": {},
   "outputs": [],
   "source": [
    "# Set up the matplotlib figure\n",
    "f, (ax1, ax2) = plt.subplots(2, 1, figsize=(10, 5), sharex=True)\n",
    "\n",
    "#assigning variables\n",
    "x = models\n",
    "y1 = precision_scores\n",
    "y2 = recall_scores\n",
    "\n",
    "#plotting on axes\n",
    "sns.barplot(x=x, y=y1, palette=\"rocket\", ax=ax1)\n",
    "sns.barplot(x=x, y=y2, palette=\"rocket\", ax=ax2)\n",
    "\n",
    "ax1.set_title('Precision Scores')\n",
    "ax2.set_title('Recall Scores')\n",
    "ax1.set_ylabel(y1)\n",
    "ax2.set_ylabel(y2)\n",
    "\n",
    "plt.show()"
   ]
  },
  {
   "cell_type": "code",
   "execution_count": null,
   "metadata": {},
   "outputs": [],
   "source": [
    "#ROC curves\n",
    "def ROC_Curve (Model, X,y):\n",
    "    X_train,X_test,y_train,y_test = train_test_split(X,y,test_size=.15)\n",
    "    model = Model\n",
    "    visualizer = ROCAUC(Model)\n",
    "\n",
    "    visualizer.fit(X_train, y_train)        # Fit the training data to the visualizer\n",
    "    visualizer.score(X_test, y_test)        # Evaluate the model on the test data\n",
    "    visualizer.show()     \n",
    "    \n",
    "model_selection: [clf_DT,clf_RFC,clf_XGB]"
   ]
  },
  {
   "cell_type": "code",
   "execution_count": null,
   "metadata": {},
   "outputs": [],
   "source": [
    "interact(ROC_Curve,Model=[clf_DT,clf_RFC,clf_XGB],X=fixed(X),y=fixed(training_scores_encoded))"
   ]
  },
  {
   "cell_type": "markdown",
   "metadata": {},
   "source": [
    "# Model Choice\n",
    "\n",
    "With minimal difference between the Random Forest and XGBoost model in terms of precision and recall, the deciding factor was which model fit the data better. Based on the ROC curves above, the RandomForest Classifier is the better model for making predictions with data not yet seen."
   ]
  }
 ],
 "metadata": {
  "kernelspec": {
   "display_name": "Python [conda env:learn-env] *",
   "language": "python",
   "name": "conda-env-learn-env-py"
  },
  "language_info": {
   "codemirror_mode": {
    "name": "ipython",
    "version": 3
   },
   "file_extension": ".py",
   "mimetype": "text/x-python",
   "name": "python",
   "nbconvert_exporter": "python",
   "pygments_lexer": "ipython3",
   "version": "3.6.9"
  },
  "toc": {
   "base_numbering": 1,
   "nav_menu": {},
   "number_sections": true,
   "sideBar": true,
   "skip_h1_title": false,
   "title_cell": "Table of Contents",
   "title_sidebar": "Contents",
   "toc_cell": false,
   "toc_position": {},
   "toc_section_display": true,
   "toc_window_display": false
  },
  "varInspector": {
   "cols": {
    "lenName": 16,
    "lenType": 16,
    "lenVar": 40
   },
   "kernels_config": {
    "python": {
     "delete_cmd_postfix": "",
     "delete_cmd_prefix": "del ",
     "library": "var_list.py",
     "varRefreshCmd": "print(var_dic_list())"
    },
    "r": {
     "delete_cmd_postfix": ") ",
     "delete_cmd_prefix": "rm(",
     "library": "var_list.r",
     "varRefreshCmd": "cat(var_dic_list()) "
    }
   },
   "types_to_exclude": [
    "module",
    "function",
    "builtin_function_or_method",
    "instance",
    "_Feature"
   ],
   "window_display": false
  }
 },
 "nbformat": 4,
 "nbformat_minor": 2
}
