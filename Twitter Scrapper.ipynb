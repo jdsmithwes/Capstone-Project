{
 "cells": [
  {
   "cell_type": "markdown",
   "metadata": {},
   "source": [
    "## Twitter Analysis"
   ]
  },
  {
   "cell_type": "code",
   "execution_count": 6,
   "metadata": {},
   "outputs": [],
   "source": [
    "#import the libraries\n",
    "import tweepy as tw\n",
    "from textblob import TextBlob\n",
    "from wordcloud import WordCloud\n",
    "import pandas as pd\n",
    "import numpy as np\n",
    "import re"
   ]
  },
  {
   "cell_type": "code",
   "execution_count": 7,
   "metadata": {},
   "outputs": [],
   "source": [
    "#Twitter Credentials\n",
    "from credentials import *"
   ]
  },
  {
   "cell_type": "code",
   "execution_count": 8,
   "metadata": {},
   "outputs": [],
   "source": [
    "callback_uri = 'oob'\n",
    "#Create the authentication object\n",
    "authenticate = tw.OAuthHandler(consumer_key,consumer_secret,callback_uri)\n",
    "#Set the acess token and access token secret\n",
    "authenticate.set_access_token(access_token,access_token_secret)\n",
    "#Create the API object\n",
    "api = tw.API(authenticate,wait_on_rate_limit=True)"
   ]
  },
  {
   "cell_type": "code",
   "execution_count": 9,
   "metadata": {},
   "outputs": [],
   "source": [
    "search_words = \"#Reelection 2020\"+ \" -filter:retweets\"\n",
    "date_since = \"2020-01-16\""
   ]
  },
  {
   "cell_type": "code",
   "execution_count": null,
   "metadata": {},
   "outputs": [],
   "source": [
    "# Collect tweets\n",
    "tweets = tw.Cursor(api.search,\n",
    "              q=search_words,\n",
    "              lang=\"en\",\n",
    "              since=date_since).items()\n",
    "tweets\n",
    "\n",
    "for tweet in tweets:\n",
    "    print(tweet.text)"
   ]
  },
  {
   "cell_type": "code",
   "execution_count": null,
   "metadata": {},
   "outputs": [],
   "source": [
    "#Extract tweets from twitter user\n",
    "#screen_name = 'TheDemocrats'\n",
    "#posts = api.user_timeline(screen_name = screen_name,count=300,lang='en',tweet_mode='extended')\n",
    "\n",
    "#convert to dataframe for tweets\n",
    "#df = pd.DataFrame([tweet.full_text for tweet in posts],columns=['Tweets'])\n",
    "#df['User'] = screen_name\n",
    "#len(posts)"
   ]
  },
  {
   "cell_type": "code",
   "execution_count": null,
   "metadata": {},
   "outputs": [],
   "source": [
    "#Extract tweets from twitter user\n",
    "#screen_name = 'GOP'\n",
    "#posts = api.user_timeline(screen_name = screen_name,count=50000,lang='en',tweet_mode='extended')\n",
    "\n",
    "#convert to dataframe for tweets\n",
    "#df_GOP = pd.DataFrame([tweet.full_text for tweet in posts],columns=['Tweets'])\n",
    "#df_GOP['User'] = screen_name\n",
    "#df_GOP.head(5)"
   ]
  },
  {
   "cell_type": "code",
   "execution_count": null,
   "metadata": {},
   "outputs": [],
   "source": [
    "#Extract tweets from twitter user\n",
    "#screen_name = 'joebiden'\n",
    "#posts = api.user_timeline(screen_name = screen_name,count=50000,lang='en',tweet_mode='extended')\n",
    "\n",
    "#convert to dataframe for tweets\n",
    "#df_Biden = pd.DataFrame([tweet.full_text for tweet in posts],columns=['Tweets'])\n",
    "#df_Biden['User'] = screen_name\n",
    "#df_Biden.head(5)"
   ]
  },
  {
   "cell_type": "code",
   "execution_count": null,
   "metadata": {},
   "outputs": [],
   "source": [
    "#Extract tweets from twitter user\n",
    "screen_name = 'realdonaldtrump'\n",
    "posts = api.user_timeline(screen_name = screen_name,count=50000,lang='en',tweet_mode='extended')\n",
    "\n",
    "#convert to dataframe for tweets\n",
    "df_Trump = pd.DataFrame([tweet.full_text for tweet in posts],columns=['Tweets'])\n",
    "df_Trump['User'] = screen_name\n",
    "df_Trump.head(5)\n",
    "df_Trump.info"
   ]
  },
  {
   "cell_type": "code",
   "execution_count": null,
   "metadata": {},
   "outputs": [],
   "source": [
    "#Create a function to get the subjectivity\n",
    "#def getSubjectivity(text):\n",
    "    #return TextBlob(text).sentiment.subjectivity\n",
    "\n",
    "#Create a function to get the polarity\n",
    "#def getPolarity(text):\n",
    "    #return TextBlob(text).sentiment.polarity\n",
    "\n",
    "#Create two new columns\n",
    "#df['Subjectivity'] = df['Tweets'].apply(getSubjectivity)\n",
    "#df['Polarity'] = df['Tweets'].apply(getPolarity)\n",
    "\n",
    "#df_GOP['Subjectivity'] = df_GOP['Tweets'].apply(getSubjectivity)\n",
    "#df_GOP['Polarity'] = df_GOP['Tweets'].apply(getPolarity)\n",
    "\n",
    "#df_Biden['Subjectivity'] = df['Tweets'].apply(getSubjectivity)\n",
    "#df_Biden['Polarity'] = df['Tweets'].apply(getPolarity)\n",
    "\n",
    "#df_Trump['Subjectivity'] = df['Tweets'].apply(getSubjectivity)\n",
    "#df_Trump['Polarity'] = df['Tweets'].apply(getPolarity)\n"
   ]
  },
  {
   "cell_type": "code",
   "execution_count": null,
   "metadata": {},
   "outputs": [],
   "source": [
    "#df_Trump.head()"
   ]
  },
  {
   "cell_type": "code",
   "execution_count": null,
   "metadata": {},
   "outputs": [],
   "source": [
    "#stacking DataFrames for overall Data\n",
    "#df_tweets = pd.concat([df,df_GOP,df_Biden,df_Trump],axis=0)\n",
    "#df_tweets.info()"
   ]
  },
  {
   "cell_type": "code",
   "execution_count": null,
   "metadata": {},
   "outputs": [],
   "source": []
  }
 ],
 "metadata": {
  "kernelspec": {
   "display_name": "Python [conda env:learn-env] *",
   "language": "python",
   "name": "conda-env-learn-env-py"
  },
  "language_info": {
   "codemirror_mode": {
    "name": "ipython",
    "version": 3
   },
   "file_extension": ".py",
   "mimetype": "text/x-python",
   "name": "python",
   "nbconvert_exporter": "python",
   "pygments_lexer": "ipython3",
   "version": "3.6.9"
  },
  "toc": {
   "base_numbering": 1,
   "nav_menu": {},
   "number_sections": true,
   "sideBar": true,
   "skip_h1_title": false,
   "title_cell": "Table of Contents",
   "title_sidebar": "Contents",
   "toc_cell": false,
   "toc_position": {},
   "toc_section_display": true,
   "toc_window_display": false
  },
  "varInspector": {
   "cols": {
    "lenName": 16,
    "lenType": 16,
    "lenVar": 40
   },
   "kernels_config": {
    "python": {
     "delete_cmd_postfix": "",
     "delete_cmd_prefix": "del ",
     "library": "var_list.py",
     "varRefreshCmd": "print(var_dic_list())"
    },
    "r": {
     "delete_cmd_postfix": ") ",
     "delete_cmd_prefix": "rm(",
     "library": "var_list.r",
     "varRefreshCmd": "cat(var_dic_list()) "
    }
   },
   "types_to_exclude": [
    "module",
    "function",
    "builtin_function_or_method",
    "instance",
    "_Feature"
   ],
   "window_display": false
  }
 },
 "nbformat": 4,
 "nbformat_minor": 2
}
