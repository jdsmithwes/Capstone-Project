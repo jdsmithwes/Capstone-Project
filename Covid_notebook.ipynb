{
 "cells": [
  {
   "cell_type": "code",
   "execution_count": 2,
   "metadata": {},
   "outputs": [],
   "source": [
    "import pandas as pd"
   ]
  },
  {
   "cell_type": "code",
   "execution_count": 12,
   "metadata": {},
   "outputs": [],
   "source": [
    "#All Covid tweets\n",
    "All_Covid_tweets = pd.read_json('Covid_tweets3.json',lines=True)\n",
    "\n",
    "#All Trump tweets\n",
    "Trump_Covid_tweets = pd.read_json('Trump_Covid_tweets3.json', lines=True)\n",
    "\n",
    "#All Cuomo tweets\n",
    "Cuomo_Covid_tweets = pd.read_json('Cuomo_Covid_tweets3.json',lines=True)\n",
    "\n",
    "#Baseline Tweets\n",
    "NYTimes_tweets = pd.read_json('Nytimes_Covid_tweets3.json',lines=True)\n",
    "#print( len(NYTimes_tweets))\n",
    "WashingtonPost_tweets = pd.read_json('Washpost_tweets3.json',lines=True)\n",
    "#print( len(Washpost_tweets3.json))"
   ]
  },
  {
   "cell_type": "code",
   "execution_count": 13,
   "metadata": {},
   "outputs": [
    {
     "name": "stdout",
     "output_type": "stream",
     "text": [
      "<class 'pandas.core.frame.DataFrame'>\n",
      "Int64Index: 702 entries, 0 to 497\n",
      "Data columns (total 34 columns):\n",
      "id                 702 non-null int64\n",
      "conversation_id    702 non-null int64\n",
      "created_at         702 non-null datetime64[ns]\n",
      "date               702 non-null datetime64[ns]\n",
      "time               702 non-null object\n",
      "timezone           702 non-null object\n",
      "user_id            702 non-null int64\n",
      "username           702 non-null object\n",
      "name               702 non-null object\n",
      "place              702 non-null object\n",
      "tweet              702 non-null object\n",
      "mentions           702 non-null object\n",
      "urls               702 non-null object\n",
      "photos             702 non-null object\n",
      "replies_count      702 non-null int64\n",
      "retweets_count     702 non-null int64\n",
      "likes_count        702 non-null int64\n",
      "hashtags           702 non-null object\n",
      "cashtags           702 non-null object\n",
      "link               702 non-null object\n",
      "retweet            702 non-null bool\n",
      "quote_url          702 non-null object\n",
      "video              702 non-null int64\n",
      "near               702 non-null object\n",
      "geo                702 non-null object\n",
      "source             702 non-null object\n",
      "user_rt_id         702 non-null object\n",
      "user_rt            702 non-null object\n",
      "retweet_id         702 non-null object\n",
      "reply_to           702 non-null object\n",
      "retweet_date       702 non-null object\n",
      "translate          702 non-null object\n",
      "trans_src          702 non-null object\n",
      "trans_dest         702 non-null object\n",
      "dtypes: bool(1), datetime64[ns](2), int64(7), object(24)\n",
      "memory usage: 187.2+ KB\n"
     ]
    }
   ],
   "source": [
    "#combining NYTimes and Washington Post to get Baseline Tweets\n",
    "Baseline_tweets = pd.concat([NYTimes_tweets,WashingtonPost_tweets],axis=0)"
   ]
  },
  {
   "cell_type": "code",
   "execution_count": 17,
   "metadata": {},
   "outputs": [],
   "source": [
    "# Covid data set\n",
    "\n",
    "covid_data = pd.read_csv('covid_19_data.csv')\n",
    "\n",
    "#Getting US data\n",
    "covid_data = covid_data[covid_data['Country/Region'] == 'US']"
   ]
  },
  {
   "cell_type": "code",
   "execution_count": 24,
   "metadata": {},
   "outputs": [
    {
     "data": {
      "text/html": [
       "<div>\n",
       "<style scoped>\n",
       "    .dataframe tbody tr th:only-of-type {\n",
       "        vertical-align: middle;\n",
       "    }\n",
       "\n",
       "    .dataframe tbody tr th {\n",
       "        vertical-align: top;\n",
       "    }\n",
       "\n",
       "    .dataframe thead th {\n",
       "        text-align: right;\n",
       "    }\n",
       "</style>\n",
       "<table border=\"1\" class=\"dataframe\">\n",
       "  <thead>\n",
       "    <tr style=\"text-align: right;\">\n",
       "      <th></th>\n",
       "      <th>SNo</th>\n",
       "      <th>Confirmed</th>\n",
       "      <th>Deaths</th>\n",
       "      <th>Recovered</th>\n",
       "    </tr>\n",
       "    <tr>\n",
       "      <th>Country/Region</th>\n",
       "      <th></th>\n",
       "      <th></th>\n",
       "      <th></th>\n",
       "      <th></th>\n",
       "    </tr>\n",
       "  </thead>\n",
       "  <tbody>\n",
       "    <tr>\n",
       "      <td>US</td>\n",
       "      <td>187053321</td>\n",
       "      <td>153657471.0</td>\n",
       "      <td>8210770.0</td>\n",
       "      <td>34839278.0</td>\n",
       "    </tr>\n",
       "  </tbody>\n",
       "</table>\n",
       "</div>"
      ],
      "text/plain": [
       "                      SNo    Confirmed     Deaths   Recovered\n",
       "Country/Region                                               \n",
       "US              187053321  153657471.0  8210770.0  34839278.0"
      ]
     },
     "execution_count": 24,
     "metadata": {},
     "output_type": "execute_result"
    }
   ],
   "source": []
  },
  {
   "cell_type": "code",
   "execution_count": null,
   "metadata": {},
   "outputs": [],
   "source": []
  }
 ],
 "metadata": {
  "kernelspec": {
   "display_name": "Python [conda env:learn-env] *",
   "language": "python",
   "name": "conda-env-learn-env-py"
  },
  "language_info": {
   "codemirror_mode": {
    "name": "ipython",
    "version": 3
   },
   "file_extension": ".py",
   "mimetype": "text/x-python",
   "name": "python",
   "nbconvert_exporter": "python",
   "pygments_lexer": "ipython3",
   "version": "3.6.9"
  },
  "toc": {
   "base_numbering": 1,
   "nav_menu": {},
   "number_sections": true,
   "sideBar": true,
   "skip_h1_title": false,
   "title_cell": "Table of Contents",
   "title_sidebar": "Contents",
   "toc_cell": false,
   "toc_position": {},
   "toc_section_display": true,
   "toc_window_display": false
  },
  "varInspector": {
   "cols": {
    "lenName": 16,
    "lenType": 16,
    "lenVar": 40
   },
   "kernels_config": {
    "python": {
     "delete_cmd_postfix": "",
     "delete_cmd_prefix": "del ",
     "library": "var_list.py",
     "varRefreshCmd": "print(var_dic_list())"
    },
    "r": {
     "delete_cmd_postfix": ") ",
     "delete_cmd_prefix": "rm(",
     "library": "var_list.r",
     "varRefreshCmd": "cat(var_dic_list()) "
    }
   },
   "types_to_exclude": [
    "module",
    "function",
    "builtin_function_or_method",
    "instance",
    "_Feature"
   ],
   "window_display": false
  }
 },
 "nbformat": 4,
 "nbformat_minor": 2
}
