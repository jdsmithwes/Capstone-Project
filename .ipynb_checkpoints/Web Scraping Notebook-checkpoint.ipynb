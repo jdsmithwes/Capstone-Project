{
 "cells": [
  {
   "cell_type": "code",
   "execution_count": 1,
   "metadata": {},
   "outputs": [
    {
     "name": "stdout",
     "output_type": "stream",
     "text": [
      "Requirement already satisfied: requests in /opt/anaconda3/envs/learn-env/lib/python3.6/site-packages (2.20.0)\n",
      "Requirement already satisfied: idna<2.8,>=2.5 in /opt/anaconda3/envs/learn-env/lib/python3.6/site-packages (from requests) (2.7)\n",
      "Requirement already satisfied: chardet<3.1.0,>=3.0.2 in /opt/anaconda3/envs/learn-env/lib/python3.6/site-packages (from requests) (3.0.4)\n",
      "Requirement already satisfied: urllib3<1.25,>=1.21.1 in /opt/anaconda3/envs/learn-env/lib/python3.6/site-packages (from requests) (1.24.2)\n",
      "Requirement already satisfied: certifi>=2017.4.17 in /opt/anaconda3/envs/learn-env/lib/python3.6/site-packages (from requests) (2020.6.20)\n",
      "Note: you may need to restart the kernel to use updated packages.\n"
     ]
    }
   ],
   "source": [
    "pip install requests"
   ]
  },
  {
   "cell_type": "code",
   "execution_count": 2,
   "metadata": {},
   "outputs": [
    {
     "name": "stdout",
     "output_type": "stream",
     "text": [
      "Requirement already satisfied: bs4 in /opt/anaconda3/envs/learn-env/lib/python3.6/site-packages (0.0.1)\n",
      "Requirement already satisfied: beautifulsoup4 in /opt/anaconda3/envs/learn-env/lib/python3.6/site-packages (from bs4) (4.8.0)\n",
      "Requirement already satisfied: soupsieve>=1.2 in /opt/anaconda3/envs/learn-env/lib/python3.6/site-packages (from beautifulsoup4->bs4) (1.9.2)\n",
      "Note: you may need to restart the kernel to use updated packages.\n"
     ]
    }
   ],
   "source": [
    "pip install bs4"
   ]
  },
  {
   "cell_type": "code",
   "execution_count": 3,
   "metadata": {},
   "outputs": [],
   "source": [
    "import requests\n",
    "from bs4 import BeautifulSoup"
   ]
  },
  {
   "cell_type": "code",
   "execution_count": 4,
   "metadata": {},
   "outputs": [],
   "source": [
    "result = requests.get('https://www.realclearpolitics.com/epolls/2020/president/us/general_election_trump_vs_biden-6247.html')"
   ]
  },
  {
   "cell_type": "code",
   "execution_count": 5,
   "metadata": {},
   "outputs": [
    {
     "name": "stdout",
     "output_type": "stream",
     "text": [
      "200\n"
     ]
    }
   ],
   "source": [
    "print(result.status_code)"
   ]
  },
  {
   "cell_type": "code",
   "execution_count": 6,
   "metadata": {},
   "outputs": [],
   "source": [
    "src = result.content"
   ]
  },
  {
   "cell_type": "code",
   "execution_count": 7,
   "metadata": {},
   "outputs": [],
   "source": [
    "soup = BeautifulSoup(src,'lxml')"
   ]
  },
  {
   "cell_type": "code",
   "execution_count": 8,
   "metadata": {},
   "outputs": [
    {
     "name": "stdout",
     "output_type": "stream",
     "text": [
      "[]\n",
      "['RCP\\xa0Average', '7/9 - 7/21', '--', '--', '49.6', '40.9', 'Biden +8.7']\n",
      "['Economist/YouGovYouGov', '7/19 - 7/21', '1222 RV', '3.2', '48', '41', 'Biden +7']\n",
      "['Rasmussen ReportsRasmussen', '7/15 - 7/21', '2500 LV', '2.0', '47', '45', 'Biden +2']\n",
      "['The Hill/HarrisXThe Hill', '7/17 - 7/20', '2829 RV', '1.8', '45', '38', 'Biden +7']\n",
      "['FOX NewsFOX News', '7/12 - 7/15', '1104 RV', '3.0', '49', '41', 'Biden +8']\n",
      "['ABC News/Wash PostABC/WP', '7/12 - 7/15', '673 LV', '--', '54', '44', 'Biden +10']\n",
      "['CNBC/Change Research (D)*CNBC*', '7/10 - 7/12', '1258 LV', '2.8', '51', '41', 'Biden +10']\n",
      "['QuinnipiacQuinnipiac', '7/9 - 7/13', '1273 RV', '2.8', '52', '37', 'Biden +15']\n",
      "['NBC News/Wall St. JrnlNBC/WSJ', '7/9 - 7/12', '900 RV', '3.3', '51', '40', 'Biden +11']\n"
     ]
    }
   ],
   "source": [
    "table = soup.table\n",
    "\n",
    "table_rows = table.find_all('tr')\n",
    "\n",
    "for tr in table_rows:\n",
    "    td = tr.find_all('td')\n",
    "    row = [i.text for i in td]\n",
    "    print(row)"
   ]
  },
  {
   "cell_type": "code",
   "execution_count": 9,
   "metadata": {},
   "outputs": [],
   "source": [
    "import pandas as pd"
   ]
  },
  {
   "cell_type": "code",
   "execution_count": 10,
   "metadata": {},
   "outputs": [
    {
     "data": {
      "text/plain": [
       "[                             Poll         Date   Sample  MoE  Biden (D)  \\\n",
       " 0                     RCP Average   7/9 - 7/21       --   --       49.6   \n",
       " 1          Economist/YouGovYouGov  7/19 - 7/21  1222 RV  3.2       48.0   \n",
       " 2      Rasmussen ReportsRasmussen  7/15 - 7/21  2500 LV  2.0       47.0   \n",
       " 3        The Hill/HarrisXThe Hill  7/17 - 7/20  2829 RV  1.8       45.0   \n",
       " 4                FOX NewsFOX News  7/12 - 7/15  1104 RV  3.0       49.0   \n",
       " 5        ABC News/Wash PostABC/WP  7/12 - 7/15   673 LV   --       54.0   \n",
       " 6  CNBC/Change Research (D)*CNBC*  7/10 - 7/12  1258 LV  2.8       51.0   \n",
       " 7            QuinnipiacQuinnipiac   7/9 - 7/13  1273 RV  2.8       52.0   \n",
       " 8   NBC News/Wall St. JrnlNBC/WSJ   7/9 - 7/12   900 RV  3.3       51.0   \n",
       " \n",
       "    Trump (R)      Spread  \n",
       " 0       40.9  Biden +8.7  \n",
       " 1       41.0    Biden +7  \n",
       " 2       45.0    Biden +2  \n",
       " 3       38.0    Biden +7  \n",
       " 4       41.0    Biden +8  \n",
       " 5       44.0   Biden +10  \n",
       " 6       41.0   Biden +10  \n",
       " 7       37.0   Biden +15  \n",
       " 8       40.0   Biden +11  ,                    0\n",
       " 0  49.6Biden (D)+8.7\n",
       " 1      40.9Trump (R),                                  Poll           Date   Sample  MoE  Biden (D)  \\\n",
       " 0                         RCP Average     7/9 - 7/21       --   --       49.6   \n",
       " 1              Economist/YouGovYouGov    7/19 - 7/21  1222 RV  3.2       48.0   \n",
       " 2          Rasmussen ReportsRasmussen    7/15 - 7/21  2500 LV  2.0       47.0   \n",
       " 3            The Hill/HarrisXThe Hill    7/17 - 7/20  2829 RV  1.8       45.0   \n",
       " 4                    FOX NewsFOX News    7/12 - 7/15  1104 RV  3.0       49.0   \n",
       " 5            ABC News/Wash PostABC/WP    7/12 - 7/15   673 LV   --       54.0   \n",
       " 6              Economist/YouGovYouGov    7/12 - 7/14  1252 RV  3.3       49.0   \n",
       " 7      CNBC/Change Research (D)*CNBC*    7/10 - 7/12  1258 LV  2.8       51.0   \n",
       " 8          Rasmussen ReportsRasmussen     7/8 - 7/14  1500 LV  2.0       47.0   \n",
       " 9                QuinnipiacQuinnipiac     7/9 - 7/13  1273 RV  2.8       52.0   \n",
       " 10      NBC News/Wall St. JrnlNBC/WSJ     7/9 - 7/12   900 RV  3.3       51.0   \n",
       " 11             Economist/YouGovYouGov      7/5 - 7/7  1165 RV  3.6       49.0   \n",
       " 12         Rasmussen ReportsRasmussen      7/5 - 7/7  1500 LV  2.5       50.0   \n",
       " 13           The Hill/HarrisXThe Hill      7/3 - 7/4   933 RV  3.2       43.0   \n",
       " 14             Economist/YouGovYouGov    6/28 - 6/30  1198 RV  3.4       49.0   \n",
       " 15                   IBD/TIPPIBD/TIPP    6/27 - 6/30  1005 RV  3.1       48.0   \n",
       " 16                   MonmouthMonmouth    6/26 - 6/30   733 RV  3.6       53.0   \n",
       " 17       CNBC/Change Research (D)CNBC    6/26 - 6/28  1663 LV  1.6       49.0   \n",
       " 18         USA Today/SuffolkUSA Today    6/25 - 6/29  1000 RV  3.1       53.0   \n",
       " 19              NPR/PBS/MaristNPR/PBS    6/22 - 6/24  1515 RV  3.5       52.0   \n",
       " 20           The Hill/HarrisXThe Hill    6/22 - 6/23   951 RV  3.2       43.0   \n",
       " 21             Economist/YouGovYouGov    6/21 - 6/23  1230 RV  3.3       49.0   \n",
       " 22                           CNBCCNBC    6/19 - 6/22   800 RV  3.5       47.0   \n",
       " 23            NY Times/SienaNYT/Siena    6/17 - 6/22  1337 RV  3.0       50.0   \n",
       " 24               Harvard-HarrisHarris    6/17 - 6/18       LV   --       56.0   \n",
       " 25             Economist/YouGovYouGov    6/14 - 6/16  1160 RV  3.5       50.0   \n",
       " 26                   FOX NewsFOX News    6/13 - 6/16  1343 RV  2.5       50.0   \n",
       " 27               QuinnipiacQuinnipiac    6/11 - 6/15  1332 RV  2.7       49.0   \n",
       " 28       CNBC/Change Research (D)CNBC    6/10 - 6/12  1250 LV  2.8       51.0   \n",
       " 29             Economist/YouGovYouGov      6/7 - 6/9  1241 RV  3.4       49.0   \n",
       " ..                                ...            ...      ...  ...        ...   \n",
       " 135        Rasmussen ReportsRasmussen     6/23 - 7/2  4500 LV  1.5       48.0   \n",
       " 136                    EmersonEmerson    6/21 - 6/24  1096 RV  2.9       55.0   \n",
       " 137                  FOX NewsFOX News     6/9 - 6/12  1001 RV  3.0       49.0   \n",
       " 138              QuinnipiacQuinnipiac     6/6 - 6/10  1214 RV  3.5       53.0   \n",
       " 139                  FOX NewsFOX News    5/11 - 5/14  1001 RV  3.0       49.0   \n",
       " 140                    EmersonEmerson    5/10 - 5/13  1006 RV  3.0       54.0   \n",
       " 141                            CNNCNN    4/25 - 4/29   470 RV  5.5       51.0   \n",
       " 142          The Hill/HarrisXThe Hill    4/25 - 4/26  1000 RV  3.1       43.0   \n",
       " 143  Politico/Morning ConsultPolitico    4/19 - 4/21  1992 RV  2.0       42.0   \n",
       " 144                    EmersonEmerson    4/11 - 4/14   914 RV  3.2       53.0   \n",
       " 145                    PPP (D)PPP (D)    3/27 - 3/28   846 RV  3.4       53.0   \n",
       " 146        Rasmussen ReportsRasmussen    3/17 - 3/21  5000 LV  1.5       49.0   \n",
       " 147                  FOX NewsFOX News    3/17 - 3/20  1002 RV  3.0       47.0   \n",
       " 148                    EmersonEmerson    3/17 - 3/18  1153 RV  2.8       55.0   \n",
       " 149                    EmersonEmerson    2/14 - 2/16  1000 RV  3.3       55.0   \n",
       " 150                    PPP (D)PPP (D)    1/19 - 1/21   760 RV  3.6       53.0   \n",
       " 151                    PPP (D)PPP (D)     6/8 - 6/10   679 RV  3.8       53.0   \n",
       " 152                    PPP (D)PPP (D)    3/23 - 3/25   846 RV  3.4       56.0   \n",
       " 153                    PPP (D)PPP (D)     2/9 - 2/11   687 RV  3.7       51.0   \n",
       " 154                            CNNCNN    1/14 - 1/18   918 RV  3.8       57.0   \n",
       " 155                    PPP (D)PPP (D)  12/11 - 12/12   862 RV  3.3       54.0   \n",
       " 156                    PPP (D)PPP (D)  10/27 - 10/29   572 RV  4.1       56.0   \n",
       " 157                    EmersonEmerson  10/12 - 10/14   820 RV  3.4       51.0   \n",
       " 158                    PPP (D)PPP (D)    9/22 - 9/25   865 RV  3.3       53.0   \n",
       " 159                    PPP (D)PPP (D)    8/18 - 8/21   887 RV  3.3       51.0   \n",
       " 160                    PPP (D)PPP (D)    7/14 - 7/17   836 RV  3.4       54.0   \n",
       " 161                    PPP (D)PPP (D)     6/9 - 6/11   811 RV  3.4       54.0   \n",
       " 162                    PPP (D)PPP (D)    5/12 - 5/14   692 RV  3.7       54.0   \n",
       " 163                    PPP (D)PPP (D)    4/17 - 4/18   648 RV  3.9       54.0   \n",
       " 164                    PPP (D)PPP (D)    3/27 - 3/28   677 RV  3.8       54.0   \n",
       " \n",
       "      Trump (R)      Spread  \n",
       " 0         40.9  Biden +8.7  \n",
       " 1         41.0    Biden +7  \n",
       " 2         45.0    Biden +2  \n",
       " 3         38.0    Biden +7  \n",
       " 4         41.0    Biden +8  \n",
       " 5         44.0   Biden +10  \n",
       " 6         40.0    Biden +9  \n",
       " 7         41.0   Biden +10  \n",
       " 8         44.0    Biden +3  \n",
       " 9         37.0   Biden +15  \n",
       " 10        40.0   Biden +11  \n",
       " 11        40.0    Biden +9  \n",
       " 12        40.0   Biden +10  \n",
       " 13        39.0    Biden +4  \n",
       " 14        40.0    Biden +9  \n",
       " 15        40.0    Biden +8  \n",
       " 16        41.0   Biden +12  \n",
       " 17        41.0    Biden +8  \n",
       " 18        41.0   Biden +12  \n",
       " 19        44.0    Biden +8  \n",
       " 20        39.0    Biden +4  \n",
       " 21        41.0    Biden +8  \n",
       " 22        38.0    Biden +9  \n",
       " 23        36.0   Biden +14  \n",
       " 24        44.0   Biden +12  \n",
       " 25        41.0    Biden +9  \n",
       " 26        38.0   Biden +12  \n",
       " 27        41.0    Biden +8  \n",
       " 28        41.0   Biden +10  \n",
       " 29        41.0    Biden +8  \n",
       " ..         ...         ...  \n",
       " 135       44.0    Biden +4  \n",
       " 136       45.0   Biden +10  \n",
       " 137       39.0   Biden +10  \n",
       " 138       40.0   Biden +13  \n",
       " 139       38.0   Biden +11  \n",
       " 140       46.0    Biden +8  \n",
       " 141       45.0    Biden +6  \n",
       " 142       37.0    Biden +6  \n",
       " 143       34.0    Biden +8  \n",
       " 144       47.0    Biden +6  \n",
       " 145       40.0   Biden +13  \n",
       " 146       44.0    Biden +5  \n",
       " 147       40.0    Biden +7  \n",
       " 148       45.0   Biden +10  \n",
       " 149       45.0   Biden +10  \n",
       " 150       41.0   Biden +12  \n",
       " 151       39.0   Biden +14  \n",
       " 152       39.0   Biden +17  \n",
       " 153       42.0    Biden +9  \n",
       " 154       40.0   Biden +17  \n",
       " 155       40.0   Biden +14  \n",
       " 156       38.0   Biden +18  \n",
       " 157       42.0    Biden +9  \n",
       " 158       40.0   Biden +13  \n",
       " 159       39.0   Biden +12  \n",
       " 160       39.0   Biden +15  \n",
       " 161       41.0   Biden +13  \n",
       " 162       40.0   Biden +14  \n",
       " 163       40.0   Biden +14  \n",
       " 164       40.0   Biden +14  \n",
       " \n",
       " [165 rows x 7 columns]]"
      ]
     },
     "execution_count": 10,
     "metadata": {},
     "output_type": "execute_result"
    }
   ],
   "source": [
    "dfs = pd.read_html('https://www.realclearpolitics.com/epolls/2020/president/us/general_election_trump_vs_biden-6247.html')\n",
    "\n",
    "dfs"
   ]
  },
  {
   "cell_type": "code",
   "execution_count": 14,
   "metadata": {},
   "outputs": [
    {
     "data": {
      "text/plain": [
       "165"
      ]
     },
     "execution_count": 14,
     "metadata": {},
     "output_type": "execute_result"
    }
   ],
   "source": [
    "import urllib\n",
    "from bs4 import BeautifulSoup\n",
    "\n",
    "html_table = urllib.request.urlopen('https://www.realclearpolitics.com/epolls/2020/president/us/general_election_trump_vs_biden-6247.html').read()\n",
    "\n",
    "# fix HTML\n",
    "soup = BeautifulSoup(html_table, \"html.parser\")\n",
    "# warn! id ratings-table is your page specific\n",
    "for table in soup.findChildren(attrs={'id': 'ratings-table'}): \n",
    "    for c in table.children:\n",
    "        if c.name in ['tbody', 'thead']:\n",
    "            c.unwrap()\n",
    "\n",
    "df = pd.read_html(str(soup), flavor=\"bs4\")\n",
    "len(df[2])"
   ]
  },
  {
   "cell_type": "code",
   "execution_count": 16,
   "metadata": {},
   "outputs": [],
   "source": [
    "poll_data = df[2]"
   ]
  },
  {
   "cell_type": "code",
   "execution_count": 17,
   "metadata": {},
   "outputs": [
    {
     "data": {
      "text/html": [
       "<div>\n",
       "<style scoped>\n",
       "    .dataframe tbody tr th:only-of-type {\n",
       "        vertical-align: middle;\n",
       "    }\n",
       "\n",
       "    .dataframe tbody tr th {\n",
       "        vertical-align: top;\n",
       "    }\n",
       "\n",
       "    .dataframe thead th {\n",
       "        text-align: right;\n",
       "    }\n",
       "</style>\n",
       "<table border=\"1\" class=\"dataframe\">\n",
       "  <thead>\n",
       "    <tr style=\"text-align: right;\">\n",
       "      <th></th>\n",
       "      <th>Poll</th>\n",
       "      <th>Date</th>\n",
       "      <th>Sample</th>\n",
       "      <th>MoE</th>\n",
       "      <th>Biden (D)</th>\n",
       "      <th>Trump (R)</th>\n",
       "      <th>Spread</th>\n",
       "    </tr>\n",
       "  </thead>\n",
       "  <tbody>\n",
       "    <tr>\n",
       "      <th>0</th>\n",
       "      <td>RCP Average</td>\n",
       "      <td>7/9 - 7/21</td>\n",
       "      <td>--</td>\n",
       "      <td>--</td>\n",
       "      <td>49.6</td>\n",
       "      <td>40.9</td>\n",
       "      <td>Biden +8.7</td>\n",
       "    </tr>\n",
       "    <tr>\n",
       "      <th>1</th>\n",
       "      <td>Economist/YouGovYouGov</td>\n",
       "      <td>7/19 - 7/21</td>\n",
       "      <td>1222 RV</td>\n",
       "      <td>3.2</td>\n",
       "      <td>48.0</td>\n",
       "      <td>41.0</td>\n",
       "      <td>Biden +7</td>\n",
       "    </tr>\n",
       "    <tr>\n",
       "      <th>2</th>\n",
       "      <td>Rasmussen ReportsRasmussen</td>\n",
       "      <td>7/15 - 7/21</td>\n",
       "      <td>2500 LV</td>\n",
       "      <td>2.0</td>\n",
       "      <td>47.0</td>\n",
       "      <td>45.0</td>\n",
       "      <td>Biden +2</td>\n",
       "    </tr>\n",
       "    <tr>\n",
       "      <th>3</th>\n",
       "      <td>The Hill/HarrisXThe Hill</td>\n",
       "      <td>7/17 - 7/20</td>\n",
       "      <td>2829 RV</td>\n",
       "      <td>1.8</td>\n",
       "      <td>45.0</td>\n",
       "      <td>38.0</td>\n",
       "      <td>Biden +7</td>\n",
       "    </tr>\n",
       "    <tr>\n",
       "      <th>4</th>\n",
       "      <td>FOX NewsFOX News</td>\n",
       "      <td>7/12 - 7/15</td>\n",
       "      <td>1104 RV</td>\n",
       "      <td>3.0</td>\n",
       "      <td>49.0</td>\n",
       "      <td>41.0</td>\n",
       "      <td>Biden +8</td>\n",
       "    </tr>\n",
       "  </tbody>\n",
       "</table>\n",
       "</div>"
      ],
      "text/plain": [
       "                         Poll         Date   Sample  MoE  Biden (D)  \\\n",
       "0                 RCP Average   7/9 - 7/21       --   --       49.6   \n",
       "1      Economist/YouGovYouGov  7/19 - 7/21  1222 RV  3.2       48.0   \n",
       "2  Rasmussen ReportsRasmussen  7/15 - 7/21  2500 LV  2.0       47.0   \n",
       "3    The Hill/HarrisXThe Hill  7/17 - 7/20  2829 RV  1.8       45.0   \n",
       "4            FOX NewsFOX News  7/12 - 7/15  1104 RV  3.0       49.0   \n",
       "\n",
       "   Trump (R)      Spread  \n",
       "0       40.9  Biden +8.7  \n",
       "1       41.0    Biden +7  \n",
       "2       45.0    Biden +2  \n",
       "3       38.0    Biden +7  \n",
       "4       41.0    Biden +8  "
      ]
     },
     "execution_count": 17,
     "metadata": {},
     "output_type": "execute_result"
    }
   ],
   "source": [
    "poll_data.head()"
   ]
  },
  {
   "cell_type": "code",
   "execution_count": null,
   "metadata": {},
   "outputs": [],
   "source": []
  }
 ],
 "metadata": {
  "kernelspec": {
   "display_name": "Python [conda env:learn-env] *",
   "language": "python",
   "name": "conda-env-learn-env-py"
  },
  "language_info": {
   "codemirror_mode": {
    "name": "ipython",
    "version": 3
   },
   "file_extension": ".py",
   "mimetype": "text/x-python",
   "name": "python",
   "nbconvert_exporter": "python",
   "pygments_lexer": "ipython3",
   "version": "3.6.9"
  },
  "toc": {
   "base_numbering": 1,
   "nav_menu": {},
   "number_sections": true,
   "sideBar": true,
   "skip_h1_title": false,
   "title_cell": "Table of Contents",
   "title_sidebar": "Contents",
   "toc_cell": false,
   "toc_position": {},
   "toc_section_display": true,
   "toc_window_display": false
  },
  "varInspector": {
   "cols": {
    "lenName": 16,
    "lenType": 16,
    "lenVar": 40
   },
   "kernels_config": {
    "python": {
     "delete_cmd_postfix": "",
     "delete_cmd_prefix": "del ",
     "library": "var_list.py",
     "varRefreshCmd": "print(var_dic_list())"
    },
    "r": {
     "delete_cmd_postfix": ") ",
     "delete_cmd_prefix": "rm(",
     "library": "var_list.r",
     "varRefreshCmd": "cat(var_dic_list()) "
    }
   },
   "types_to_exclude": [
    "module",
    "function",
    "builtin_function_or_method",
    "instance",
    "_Feature"
   ],
   "window_display": false
  }
 },
 "nbformat": 4,
 "nbformat_minor": 2
}
